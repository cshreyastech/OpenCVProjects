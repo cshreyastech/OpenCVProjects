{
    "cells": [
        {
            "cell_type": "markdown",
            "metadata": {
                "colab_type": "text",
                "id": "vTlg8FdNKqMq"
            },
            "source": [
                "\n",
                "PyTorch: Custom nn Modules\n",
                "--------------------------\n",
                "\n",
                "A fully-connected ReLU network with one hidden layer, trained to predict y from x\n",
                "by minimizing squared Euclidean distance.\n",
                "\n",
                "This implementation defines the model as a custom Module subclass. Whenever you\n",
                "want a model more complex than a simple sequence of existing Modules you will\n",
                "need to define your model this way.\n",
                "\n"
            ]
        },
        {
            "cell_type": "code",
            "execution_count": 1,
            "metadata": {
                "colab": {
                    "base_uri": "https:\/\/localhost:8080\/",
                    "height": 1000
                },
                "colab_type": "code",
                "id": "mYuwGycSKqMr",
                "outputId": "ef5d2460-c83f-4672-8ec2-28de6621a02e"
            },
            "outputs": [],
            "source": [
                "import torch\n",
                "import torch.nn as nn\n",
                "import torch.optim as optim\n",
                "\n",
                "# Get reproducible results\n",
                "torch.manual_seed(0)\n",
                "\n",
                "# Define the model\n",
                "class MLP(torch.nn.Module):\n",
                "    def __init__(self, num_inputs, num_hidden_layer_nodes, num_outputs):\n",
                "        # Initialize super class\n",
                "        super().__init__()\n",
                "\n",
                "        # Build model using Sequential container\n",
                "        self.model = nn.Sequential(\n",
                "            # Add hidden layer \n",
                "            nn.Linear(num_inputs, num_hidden_layer_nodes),\n",
                "            # Add ReLU activation\n",
                "            nn.ReLU(),\n",
                "            # Add output layer\n",
                "            nn.Linear(num_hidden_layer_nodes, num_outputs)\n",
                "        )\n",
                "\n",
                "    def forward(self, x):\n",
                "        # Forward pass\n",
                "        return self.model(x)\n",
                "\n",
                "# Num data points\n",
                "num_data = 1000\n",
                "\n",
                "# Network parameters\n",
                "num_inputs = 1000\n",
                "num_hidden_layer_nodes = 100\n",
                "num_outputs = 10\n",
                "\n",
                "# Training parameters\n",
                "num_epochs = 100 \n",
                "\n",
                "# Create input and output tensors\n",
                "x = torch.randn(num_data, num_inputs)\n",
                "y = torch.randn(num_data, num_outputs)\n",
                "\n",
                "# Construct model\n",
                "model = MLP(num_inputs, num_hidden_layer_nodes, num_outputs)\n",
                "\n",
                "# Define loss function\n",
                "loss_function = nn.MSELoss(reduction='sum')\n",
                "\n",
                "# Define optimizer\n",
                "optimizer = optim.SGD(model.parameters(), lr=1e-4)\n",
                "\n",
                "\n",
                "for t in range(num_epochs):\n",
                "\n",
                "    # Forward pass: Compute predicted y by passing x to the model\n",
                "    y_pred = model(x)\n",
                "\n",
                "    # Compute and print loss\n",
                "    loss = loss_function(y_pred, y)\n",
                "    print(t, loss.item())\n",
                "\n",
                "    # Zero gradients, perform a backward pass, and update the weights.\n",
                "    optimizer.zero_grad()\n",
                "\n",
                "    # Calculate gradient using backward pass\n",
                "    loss.backward()\n",
                "\n",
                "    # Update model parameters (weights)\n",
                "    optimizer.step()"
            ]
        }
    ],
    "metadata": {
        "kernelspec": {
            "display_name": "Python 3.8",
            "language": "python",
            "name": "python38"
        },
        "language_info": {
            "codemirror_mode": {
                "name": "ipython",
                "version": 3
            },
            "file_extension": ".py",
            "mimetype": "text\/x-python",
            "name": "python",
            "nbconvert_exporter": "python",
            "pygments_lexer": "ipython3",
            "version": "3.8.7"
        }
    },
    "nbformat": 4,
    "nbformat_minor": 2
}