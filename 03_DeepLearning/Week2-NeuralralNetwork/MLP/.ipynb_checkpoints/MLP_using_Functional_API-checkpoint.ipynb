{
    "cells": [
        {
            "cell_type": "markdown",
            "metadata": {
                "colab_type": "text",
                "id": "V2cvA6soQQFV"
            },
            "source": [
                "# MLP with Single Hidden Layer using PyTorch\n",
                "\n",
                "1. Define an MLP with variable number of inputs (num_inputs), outputs (num_outputs), and nodes in hidden layer (num_hidden_layer_nodes).  \n",
                "2. Use ReLU activation for each node \n",
                "3. Use MSE loss\n",
                "4. Use SGD optimizer\n",
                "\n",
                "\n",
                "<img src=\"https:\/\/www.learnopencv.com\/wp-content\/uploads\/2020\/01\/mlp.png\" alt=\"mlp\" width=\"500\"\/>\n"
            ]
        },
        {
            "cell_type": "code",
            "execution_count": 1,
            "metadata": {
                "colab": {
                    "base_uri": "https:\/\/localhost:8080\/",
                    "height": 1000
                },
                "colab_type": "code",
                "id": "PPyTXeGJQcuY",
                "outputId": "81d37dac-ed1a-4cd6-c51f-0be62d487340"
            },
            "outputs": [],
            "source": [
                "import torch\n",
                "import torch.nn as nn\n",
                "import torch.optim as optim\n",
                "import torch.nn.functional as F\n",
                "\n",
                "# Get reproducible results\n",
                "torch.manual_seed(0)\n",
                "\n",
                "# Define the model\n",
                "class MLP(nn.Module):\n",
                "    def __init__(self, num_inputs, num_hidden_layer_nodes, num_outputs):\n",
                "        # Initialize super class\n",
                "        super().__init__()\n",
                "\n",
                "        # Add hidden layer \n",
                "        self.linear1 = nn.Linear(num_inputs, num_hidden_layer_nodes)\n",
                "\n",
                "        # Add output layer\n",
                "        self.linear2 = nn.Linear(num_hidden_layer_nodes, num_outputs)\n",
                "        \n",
                "\n",
                "    def forward(self, x):\n",
                "        # Forward pass through hidden layer with \n",
                "        x = F.relu(self.linear1(x))\n",
                "        \n",
                "        # Foward pass to output layer\n",
                "        return self.linear2(x)\n",
                "\n",
                "# Num data points\n",
                "num_data = 1000\n",
                "\n",
                "# Network parameters\n",
                "num_inputs = 1000\n",
                "num_hidden_layer_nodes = 100\n",
                "num_outputs = 10\n",
                "\n",
                "# Training parameters\n",
                "num_epochs = 100 \n",
                "\n",
                "# Create random Tensors to hold inputs and outputs\n",
                "x = torch.randn(num_data, num_inputs)\n",
                "y = torch.randn(num_data, num_outputs)\n",
                "\n",
                "# Construct our model by instantiating the class defined above\n",
                "model = MLP(num_inputs, num_hidden_layer_nodes, num_outputs)\n",
                "\n",
                "# Define loss function\n",
                "loss_function = nn.MSELoss(reduction='sum')\n",
                "\n",
                "# Define optimizer\n",
                "optimizer = optim.SGD(model.parameters(), lr=1e-4)\n",
                "\n",
                "\n",
                "for t in range(num_epochs):\n",
                "\n",
                "    # Forward pass: Compute predicted y by passing x to the model\n",
                "    y_pred = model(x)\n",
                "\n",
                "    # Compute and print loss\n",
                "    loss = loss_function(y_pred, y)\n",
                "    print(t, loss.item())\n",
                "\n",
                "    # Zero gradients, perform a backward pass, and update the weights.\n",
                "    optimizer.zero_grad()\n",
                "\n",
                "    # Calculate gradient using backward pass\n",
                "    loss.backward()\n",
                "\n",
                "    # Update model parameters (weights)\n",
                "    optimizer.step()\n",
                "        "
            ]
        }
    ],
    "metadata": {
        "kernelspec": {
            "display_name": "Python 3.8",
            "language": "python",
            "name": "python38"
        },
        "language_info": {
            "codemirror_mode": {
                "name": "ipython",
                "version": 3
            },
            "file_extension": ".py",
            "mimetype": "text\/x-python",
            "name": "python",
            "nbconvert_exporter": "python",
            "pygments_lexer": "ipython3",
            "version": "3.8.7"
        }
    },
    "nbformat": 4,
    "nbformat_minor": 2
}