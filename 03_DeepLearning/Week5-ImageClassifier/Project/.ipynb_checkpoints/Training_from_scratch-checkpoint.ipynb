{
 "cells": [
  {
   "cell_type": "markdown",
   "metadata": {},
   "source": [
    "# <font style=\"color:blue\">Table of Content</font>\n",
    "\n",
    "- [Step 1: Understand Your Problem](#step1)\n",
    "- [Step 2: Get the Data](#step2)\n",
    "- [Step 3. Data Preparation](#step3)\n",
    "- [Step 4: Train a Simple Model](#step4)\n",
    "- [Step 5: Sample Prediction](#step5)\n",
    "- [Step 6. Display Mistakes](#step6)"
   ]
  },
  {
   "cell_type": "markdown",
   "metadata": {},
   "source": [
    "# <font style=\"color:blue\">Project 1 - Part 2: Train an Image Classifier From Scratch</font>\n",
    "As discussed in the previous notebook, the steps for training Neural Networks are:\n",
    "\n",
    "- Step 1 - Understand your problem\n",
    "- Step 2A - Get the data\n",
    "- Step 2B - Explore and understand your data\n",
    "- Step 2C - Create a sample data from the dataset\n",
    "- Step 3 - Data preparation\n",
    "- Step 4 - Train a simple model on sample data and check the pipeline before proceeding to train the full network\n",
    "- Step 5 - Train on full data\n",
    "- Step 6 - Improve your model\n",
    "\n",
    "You have already been through Steps `1-4` in the previous notebook. Use them here as well.\n",
    "\n",
    "Here, you will implement Steps `5` & `6` from scratch. Design a model that achieves `>=85%` validation accuracy on the given dataset.\n",
    "\n",
    "There are 70 points for this notebook. The sections which carry marks are in Red.\n",
    "\n",
    "There are **70 points** for this notebook. <font style=\"color:red\">The sections which carry marks are in Red.</font>"
   ]
  },
  {
   "cell_type": "markdown",
   "metadata": {},
   "source": [
    "For GPU compute you can use Kaggle Kernels, Google Colab or any other service of your choice.\n",
    "\n",
    "After completing the assignment, upload and submit it on the portal for feedback."
   ]
  },
  {
   "cell_type": "markdown",
   "metadata": {},
   "source": [
    "<font style=\"color:red\">Use the full data to train the network. You need to achieve 85% accuracy for validation data to successfully complete this assignment.</font>\n",
    "\n",
    "\n",
    "<font style=\"color:red\">Just remember to build your own model, not use any pre-trained models/weights.</font>\n",
    "\n",
    "\n",
    "Upon completing the assignment, <font style=\"color:red\">upload the notebook and the models folder on the portal for  feedback.</font>"
   ]
  },
  {
   "cell_type": "markdown",
   "metadata": {},
   "source": [
    "# <font style=\"color:blue\">Step 1: Understand Your problem </font><a name=\"step1\"></a>\n",
    "Already covered in the previous notebook."
   ]
  },
  {
   "cell_type": "markdown",
   "metadata": {},
   "source": [
    "# <font style=\"color:blue\">Step 2: Get the Data </font><a name=\"step2\"></a>\n",
    "\n",
    "Already covered in the previous notebook."
   ]
  },
  {
   "cell_type": "code",
   "execution_count": 1,
   "metadata": {},
   "outputs": [],
   "source": [
    "#!wget \"https://www.dropbox.com/sh/n5nya3g3airlub6/AACi7vaUjdTA0t2j_iKWgp4Ra?dl=1\" -O data.zip"
   ]
  },
  {
   "cell_type": "markdown",
   "metadata": {},
   "source": [
    "### <font style=\"color:green\">Extract the Data</font>"
   ]
  },
  {
   "cell_type": "code",
   "execution_count": 2,
   "metadata": {},
   "outputs": [],
   "source": [
    "#!unzip -q data.zip"
   ]
  },
  {
   "cell_type": "code",
   "execution_count": 3,
   "metadata": {},
   "outputs": [
    {
     "name": "stdout",
     "output_type": "stream",
     "text": [
      "./cat-dog-panda  [error opening dir]\n",
      "\n",
      "0 directories\n"
     ]
    }
   ],
   "source": [
    "data_path_prefix = \"../../../../data/\"\n",
    "# data_path_prefix = \"./\" \n",
    "!tree -d ./cat-dog-panda"
   ]
  },
  {
   "cell_type": "markdown",
   "metadata": {},
   "source": [
    "# <font style=\"color:blue\">Step 3. Data Preparation</font><a name=\"step3\"></a>\n",
    "Already covered in the previous notebook."
   ]
  },
  {
   "cell_type": "markdown",
   "metadata": {},
   "source": [
    "## <font style=\"color:blue\">3.1. Import Libraries </font>"
   ]
  },
  {
   "cell_type": "code",
   "execution_count": 4,
   "metadata": {},
   "outputs": [],
   "source": [
    "%matplotlib inline"
   ]
  },
  {
   "cell_type": "code",
   "execution_count": 5,
   "metadata": {},
   "outputs": [],
   "source": [
    "import matplotlib.pyplot as plt\n",
    "plt.style.use('ggplot')"
   ]
  },
  {
   "cell_type": "code",
   "execution_count": 6,
   "metadata": {},
   "outputs": [],
   "source": [
    "import os\n",
    "import time\n",
    "\n",
    "from typing import Iterable\n",
    "from dataclasses import dataclass\n",
    "\n",
    "import numpy as np\n",
    "import torch\n",
    "import torch.nn as nn\n",
    "import torch.optim as optim\n",
    "import torch.nn.functional as F\n",
    "\n",
    "from torchvision import datasets, transforms\n",
    "\n",
    "from torch.optim import lr_scheduler"
   ]
  },
  {
   "cell_type": "markdown",
   "metadata": {},
   "source": [
    "### <font style=\"color:green\">3.2.1. Compulsary Preprocessing Transforms</font>"
   ]
  },
  {
   "cell_type": "code",
   "execution_count": 7,
   "metadata": {},
   "outputs": [],
   "source": [
    "def image_preprocess_transforms():\n",
    "    \n",
    "    preprocess = transforms.Compose([\n",
    "        transforms.Resize(256),\n",
    "        transforms.CenterCrop(224),\n",
    "        transforms.ToTensor()\n",
    "        ])\n",
    "    \n",
    "    return preprocess"
   ]
  },
  {
   "cell_type": "markdown",
   "metadata": {},
   "source": [
    "### <font style=\"color:green\">3.2.2. Common Image Transforms</font>"
   ]
  },
  {
   "cell_type": "code",
   "execution_count": 8,
   "metadata": {},
   "outputs": [],
   "source": [
    "def image_common_transforms(mean=(0.4611, 0.4359, 0.3905), std=(0.2193, 0.2150, 0.2109)):\n",
    "    preprocess = image_preprocess_transforms()\n",
    "    \n",
    "    common_transforms = transforms.Compose([\n",
    "        preprocess,\n",
    "        transforms.Normalize(mean, std)\n",
    "    ])\n",
    "    \n",
    "    return common_transforms\n",
    "    "
   ]
  },
  {
   "cell_type": "markdown",
   "metadata": {},
   "source": [
    "### <font style=\"color:green\">3.2.3. Mean and STD</font>"
   ]
  },
  {
   "cell_type": "code",
   "execution_count": 9,
   "metadata": {},
   "outputs": [],
   "source": [
    "def get_mean_std(data_root, num_workers=4):\n",
    "    \n",
    "    transform = image_preprocess_transforms()\n",
    "    \n",
    "    loader = data_loader(data_root, transform)\n",
    "    \n",
    "    batch_mean = torch.zeros(3)\n",
    "    batch_mean_sqrd = torch.zeros(3)\n",
    "\n",
    "    for batch_data, _ in loader:\n",
    "        batch_mean += batch_data.mean(dim=(0, 2, 3)) # E[batch_i] \n",
    "        batch_mean_sqrd += (batch_data ** 2).mean(dim=(0, 2, 3)) #  E[batch_i**2]\n",
    "    \n",
    "    # E[dataset] = E[E[batch_1], E[batch_2], ...]\n",
    "    mean = batch_mean / len(loader)\n",
    "    \n",
    "    # var[X] = E[X**2] - E[X]**2\n",
    "    \n",
    "    # E[X**2] = E[E[batch_1**2], E[batch_2**2], ...]\n",
    "    # E[X]**2 = E[E[batch_1], E[batch_2], ...] ** 2\n",
    "    \n",
    "    var = (batch_mean_sqrd / len(loader)) - (mean ** 2)\n",
    "        \n",
    "    std = var ** 0.5\n",
    "    print('mean: {}, std: {}'.format(mean, std))\n",
    "    \n",
    "    return mean, std"
   ]
  },
  {
   "cell_type": "markdown",
   "metadata": {},
   "source": [
    "## <font style=\"color:blue\">3.3. Data Loaders </font>"
   ]
  },
  {
   "cell_type": "markdown",
   "metadata": {},
   "source": [
    "### <font style=\"color:green\">3.3.1. Data Loader for Full Data</font>\n",
    "Data loader for generating batches of data to be used by the training routine"
   ]
  },
  {
   "cell_type": "code",
   "execution_count": 10,
   "metadata": {},
   "outputs": [],
   "source": [
    "# def data_loader(data_root, transform, batch_size=16, shuffle=False, num_workers=2):\n",
    "    \n",
    "#     dataset = datasets.ImageFolder(root=data_root, transform=transform)\n",
    "\n",
    "#     # print(\"data_loader() - dataset\", type(dataset))\n",
    "    \n",
    "#     loader = torch.utils.data.DataLoader(dataset, \n",
    "#                                          batch_size=batch_size,\n",
    "#                                          num_workers=num_workers,\n",
    "#                                          shuffle=shuffle)\n",
    "    \n",
    "#     return loader"
   ]
  },
  {
   "cell_type": "code",
   "execution_count": 11,
   "metadata": {},
   "outputs": [],
   "source": [
    "def data_loader(data_root, transform, batch_size=8, shuffle=False, num_workers=2, subset_size=0.05):\n",
    "    dataset = datasets.ImageFolder(root=data_root, transform=transform)\n",
    "    data_subset = torch.utils.data.Subset(dataset,np.arange(0,len(dataset),1./subset_size).astype(int))\n",
    "    \n",
    "    loader = torch.utils.data.DataLoader(data_subset, \n",
    "                                         batch_size=batch_size,\n",
    "                                         num_workers=num_workers,\n",
    "                                         shuffle=shuffle)\n",
    "\n",
    "    return loader"
   ]
  },
  {
   "cell_type": "markdown",
   "metadata": {},
   "source": [
    "## <font style=\"color:green\">3.4. Prepare Data</font>\n",
    "The main function which uses all the above functions to generate the train and test dataloaders.\n"
   ]
  },
  {
   "cell_type": "code",
   "execution_count": 12,
   "metadata": {},
   "outputs": [],
   "source": [
    "def get_data(batch_size, data_root, num_workers=4, data_augmentation=False):\n",
    "    # YOUR CODE HERE\n",
    "    # common transforms\n",
    "    train_data_path = os.path.join(data_root, 'training')\n",
    "    mean, std = get_mean_std(data_root=train_data_path, num_workers=num_workers)\n",
    "    common_transforms = image_common_transforms(mean, std)\n",
    "    \n",
    "    # if data_augmentation is true \n",
    "    # data augmentation implementation\n",
    "    if data_augmentation:\n",
    "        train_transforms = transforms.Compose([\n",
    "            transforms.RandomChoice([\n",
    "                transforms.RandomHorizontalFlip(),\n",
    "                transforms.RandomVerticalFlip(),\n",
    "                transforms.RandomRotation(20),\n",
    "                transforms.RandomCrop(28, padding=4),\n",
    "                # transforms.PILToTensor(),\n",
    "                # transforms.ConvertImageDtype(torch.float),\n",
    "                transforms.RandomPerspective(distortion_scale=0.6, p=1),\n",
    "                transforms.ColorJitter(brightness=.5, hue=.3)\n",
    "            ]),\n",
    "            common_transforms\n",
    "        ])\n",
    "    # else do common transforms\n",
    "    else:\n",
    "        train_transforms = common_transforms\n",
    "        \n",
    "        \n",
    "    \n",
    "    # train dataloader\n",
    "    train_loader = data_loader(train_data_path, \n",
    "                               train_transforms, \n",
    "                               batch_size=batch_size, \n",
    "                               shuffle=True, \n",
    "                               num_workers=num_workers)\n",
    "    \n",
    "    # test dataloader\n",
    "    \n",
    "    test_data_path = os.path.join(data_root, 'validation')\n",
    "    \n",
    "    test_loader = data_loader(test_data_path, \n",
    "                              train_transforms, \n",
    "                              batch_size=batch_size, \n",
    "                              shuffle=False, \n",
    "                              num_workers=num_workers)\n",
    "    \n",
    "    return train_loader, test_loader"
   ]
  },
  {
   "cell_type": "code",
   "execution_count": 13,
   "metadata": {},
   "outputs": [
    {
     "name": "stdout",
     "output_type": "stream",
     "text": [
      "mean: tensor([0.4551, 0.4301, 0.3894]), std: tensor([0.2749, 0.2648, 0.2628])\n"
     ]
    }
   ],
   "source": [
    "from torchvision.transforms import functional as Fn\n",
    "\n",
    "# data loader\n",
    "train_loader, test_loader = get_data(\n",
    "    batch_size=10,\n",
    "    data_root=os.path.join(data_path_prefix, \"cat-dog-panda\"),\n",
    "    num_workers=1,\n",
    "    data_augmentation=False\n",
    ")\n",
    "\n",
    "# # Plot few images\n",
    "# plt.rcParams[\"figure.figsize\"] = (15, 9)\n",
    "# plt.figure\n",
    "# for images, labels in train_loader:\n",
    "#     for i in range(len(labels)):\n",
    "#         plt.subplot(3, 5, i+1)\n",
    "#         img = Fn.to_pil_image(images[i])\n",
    "#         plt.imshow(img)\n",
    "#         plt.gca().set_title('Target: {0}'.format(labels[i]))\n",
    "#     plt.show()\n",
    "#     break\n",
    "\n",
    "# print(\"--------------------\")\n",
    "# # Plot few images\n",
    "# plt.rcParams[\"figure.figsize\"] = (15, 9)\n",
    "# plt.figure\n",
    "# for images, labels in test_loader:\n",
    "#     for i in range(len(labels)):\n",
    "#         plt.subplot(3, 5, i+1)\n",
    "#         img = Fn.to_pil_image(images[i])\n",
    "#         plt.imshow(img)\n",
    "#         plt.gca().set_title('Target: {0}'.format(labels[i]))\n",
    "#     plt.show()\n",
    "#     break"
   ]
  },
  {
   "cell_type": "markdown",
   "metadata": {},
   "source": [
    "# <font style=\"color:blue\">Step 4: Train Your Model</font><a name=\"step4\"></a>\n",
    "\n",
    "Now, create the training pipeline, and train your model on the full data."
   ]
  },
  {
   "cell_type": "markdown",
   "metadata": {},
   "source": [
    "## <font style=\"color:red\">4.1. Configurations [20 Points]</font>\n",
    "\n",
    "To achieve good results, change the parameters given in these configurations. Score 20 points for all right choices."
   ]
  },
  {
   "cell_type": "markdown",
   "metadata": {},
   "source": [
    "### <font style=\"color:green\">4.1.1. System Configuration</font>\n",
    "\n",
    "Fix the seed (e.g., `21`) to get a reproducible result. "
   ]
  },
  {
   "cell_type": "code",
   "execution_count": 14,
   "metadata": {},
   "outputs": [],
   "source": [
    "@dataclass\n",
    "class SystemConfiguration:\n",
    "    '''\n",
    "    Describes the common system setting needed for reproducible training\n",
    "    '''\n",
    "    seed: int = 21  # seed number to set the state of all random number generators\n",
    "    cudnn_benchmark_enabled: bool = True  # enable CuDNN benchmark for the sake of performance\n",
    "    cudnn_deterministic: bool = True  # make cudnn deterministic (reproducible training)"
   ]
  },
  {
   "cell_type": "markdown",
   "metadata": {},
   "source": [
    "### <font style=\"color:green\">4.1.2. Training Configuration</font>"
   ]
  },
  {
   "cell_type": "code",
   "execution_count": 15,
   "metadata": {},
   "outputs": [],
   "source": [
    "@dataclass\n",
    "class TrainingConfiguration:\n",
    "    '''\n",
    "    Describes configuration of the training process\n",
    "    '''\n",
    "    batch_size: int = 10 #64 \n",
    "    epochs_count: int = 2 #160\n",
    "    init_learning_rate: float = 0.001  # initial learning rate for lr scheduler\n",
    "    log_interval: int = 10  \n",
    "    test_interval: int = 1 #0  \n",
    "    # data_root: str = data_path_prefix + \"./cat-dog-panda\"\n",
    "    # model_dir: str = data_path_prefix + \"models\"\n",
    "    data_root: str = os.path.join(data_path_prefix, \"cat-dog-panda\")\n",
    "    model_dir: str = os.path.join(data_path_prefix, \"models\")\n",
    "    \n",
    "    model_file_name: str = 'cat_dog_panda_classifier.pt'\n",
    "    num_workers: int = 2  \n",
    "    device: str = 'cuda'  \n",
    "    \n"
   ]
  },
  {
   "cell_type": "markdown",
   "metadata": {},
   "source": [
    "### <font style=\"color:green\">4.1.3. System Setup</font>"
   ]
  },
  {
   "cell_type": "code",
   "execution_count": 16,
   "metadata": {},
   "outputs": [],
   "source": [
    "def setup_system(system_config: SystemConfiguration) -> None:\n",
    "    torch.manual_seed(system_config.seed)\n",
    "    if torch.cuda.is_available():\n",
    "        torch.backends.cudnn_benchmark_enabled = system_config.cudnn_benchmark_enabled\n",
    "        torch.backends.cudnn.deterministic = system_config.cudnn_deterministic"
   ]
  },
  {
   "cell_type": "markdown",
   "metadata": {},
   "source": [
    "## <font style=\"color:blue\">4.2. Training Function</font>\n",
    "\n",
    "You are already familiar with the training function. No changes needed here."
   ]
  },
  {
   "cell_type": "code",
   "execution_count": 17,
   "metadata": {},
   "outputs": [],
   "source": [
    "def train(\n",
    "    train_config: TrainingConfiguration, model: nn.Module, optimizer: torch.optim.Optimizer,\n",
    "    train_loader: torch.utils.data.DataLoader, epoch_idx: int\n",
    ") -> None:\n",
    "    \n",
    "    # change model in training mood\n",
    "    model.train()\n",
    "    \n",
    "    # to get batch loss\n",
    "    batch_loss = np.array([])\n",
    "    \n",
    "    # to get batch accuracy\n",
    "    batch_acc = np.array([])\n",
    "        \n",
    "    for batch_idx, (data, target) in enumerate(train_loader):\n",
    "        \n",
    "        # clone target\n",
    "        indx_target = target.clone()\n",
    "        # send data to device (its is medatory if GPU has to be used)\n",
    "        data = data.to(train_config.device)\n",
    "        # send target to device\n",
    "        target = target.to(train_config.device)\n",
    "\n",
    "        # reset parameters gradient to zero\n",
    "        optimizer.zero_grad()\n",
    "        \n",
    "        # forward pass to the model\n",
    "        output = model(data)\n",
    "        \n",
    "        # cross entropy loss\n",
    "        loss = F.cross_entropy(output, target)\n",
    "        \n",
    "        # find gradients w.r.t training parameters\n",
    "        loss.backward()\n",
    "        # Update parameters using gardients\n",
    "        optimizer.step()\n",
    "        \n",
    "        batch_loss = np.append(batch_loss, [loss.item()])\n",
    "        \n",
    "        # Score to probability using softmax\n",
    "        prob = F.softmax(output, dim=1)\n",
    "            \n",
    "        # get the index of the max probability\n",
    "        pred = prob.data.max(dim=1)[1]  \n",
    "                        \n",
    "        # correct prediction\n",
    "        correct = pred.cpu().eq(indx_target).sum()\n",
    "            \n",
    "        # accuracy\n",
    "        acc = float(correct) / float(len(data))\n",
    "        \n",
    "        batch_acc = np.append(batch_acc, [acc])\n",
    "            \n",
    "    epoch_loss = batch_loss.mean()\n",
    "    epoch_acc = batch_acc.mean()\n",
    "    print('Epoch: {} \\nTrain Loss: {:.6f} Acc: {:.4f}'.format(epoch_idx, epoch_loss, epoch_acc))\n",
    "    return epoch_loss, epoch_acc"
   ]
  },
  {
   "cell_type": "markdown",
   "metadata": {},
   "source": [
    "## <font style=\"color:blue\">4.3. Validation Function</font>"
   ]
  },
  {
   "cell_type": "code",
   "execution_count": 18,
   "metadata": {},
   "outputs": [],
   "source": [
    "def validate(\n",
    "    train_config: TrainingConfiguration,\n",
    "    model: nn.Module,\n",
    "    test_loader: torch.utils.data.DataLoader,\n",
    ") -> float:\n",
    "    # \n",
    "    model.eval()\n",
    "    test_loss = 0\n",
    "    count_corect_predictions = 0\n",
    "    for data, target in test_loader:\n",
    "        indx_target = target.clone()\n",
    "        data = data.to(train_config.device)\n",
    "        \n",
    "        target = target.to(train_config.device)\n",
    "        \n",
    "        with torch.no_grad():\n",
    "            output = model(data)\n",
    "        \n",
    "        # add loss for each mini batch\n",
    "        test_loss += F.cross_entropy(output, target).item()\n",
    "        \n",
    "        # Score to probability using softmax\n",
    "        prob = F.softmax(output, dim=1)\n",
    "        \n",
    "        # get the index of the max probability\n",
    "        pred = prob.data.max(dim=1)[1] \n",
    "        \n",
    "        # add correct prediction count\n",
    "        count_corect_predictions += pred.cpu().eq(indx_target).sum()\n",
    "\n",
    "    # average over number of mini-batches\n",
    "    test_loss = test_loss / len(test_loader)  \n",
    "    \n",
    "    # average over number of dataset\n",
    "    accuracy = 100. * count_corect_predictions / len(test_loader.dataset)\n",
    "    \n",
    "    print(\n",
    "        '\\nTest set: Average loss: {:.4f}, Accuracy: {}/{} ({:.0f}%)\\n'.format(\n",
    "            test_loss, count_corect_predictions, len(test_loader.dataset), accuracy\n",
    "        )\n",
    "    )\n",
    "    \n",
    "    return test_loss, accuracy/100.0"
   ]
  },
  {
   "cell_type": "markdown",
   "metadata": {},
   "source": [
    "## <font style=\"color:blue\">4.4. Save the Model</font>"
   ]
  },
  {
   "cell_type": "code",
   "execution_count": 19,
   "metadata": {},
   "outputs": [],
   "source": [
    "def save_model(model, epoch, loss, device, model_dir, model_file_name):\n",
    "\n",
    "    if not os.path.exists(model_dir):\n",
    "        os.makedirs(model_dir)\n",
    "\n",
    "    model_path = os.path.join(model_dir, model_file_name)\n",
    "\n",
    "    # make sure you transfer the model to cpu.\n",
    "    if device == 'cuda':\n",
    "        model.to('cpu')\n",
    "\n",
    "    # save the state_dict\n",
    "    checkpoint = {\n",
    "        'model_state_dict': model.state_dict(),\n",
    "        'epoch': epoch\n",
    "    }\n",
    "\n",
    "    torch.save(checkpoint, model_path)\n",
    "    \n",
    "    if device == 'cuda':\n",
    "        model.to('cuda')\n",
    "    \n",
    "    return"
   ]
  },
  {
   "cell_type": "markdown",
   "metadata": {},
   "source": [
    "## <font style=\"color:blue\">4.5. Load the Model</font>"
   ]
  },
  {
   "cell_type": "code",
   "execution_count": 20,
   "metadata": {},
   "outputs": [],
   "source": [
    "def load_model(model, model_dir, model_file_name):\n",
    "    model_path = os.path.join(model_dir, model_file_name)\n",
    "\n",
    "    # loading the model and getting model parameters by using load_state_dict\n",
    "    checkpoint = torch.load(model_path)\n",
    "    \n",
    "    model.load_state_dict(checkpoint['model_state_dict'])\n",
    "    epoch = checkpoint['epoch']\n",
    "\n",
    "    return model, epoch"
   ]
  },
  {
   "cell_type": "markdown",
   "metadata": {},
   "source": [
    "## <font style=\"color:blue\">4.6. Main Function for Training</font>\n",
    "\n",
    "Note: Before calling the train function, we calculate the validation loss, which we know should be close to $\\log(\\text{num_classes})$. Also, the accuracy should be close to $\\frac{1}{\\text{num_classes}}$."
   ]
  },
  {
   "cell_type": "code",
   "execution_count": 21,
   "metadata": {},
   "outputs": [],
   "source": [
    "def main(model, optimizer, scheduler=None, system_configuration=SystemConfiguration(), \n",
    "         training_configuration=TrainingConfiguration(), data_augmentation=True):\n",
    "    \n",
    "    # system configuration\n",
    "    setup_system(system_configuration)\n",
    "\n",
    "    # batch size\n",
    "    batch_size_to_set = training_configuration.batch_size\n",
    "    # num_workers\n",
    "    num_workers_to_set = training_configuration.num_workers\n",
    "    # epochs\n",
    "    epoch_num_to_set = training_configuration.epochs_count\n",
    "    model_dir = train_config.model_dir\n",
    "    model_file_name = train_config.model_file_name\n",
    "    device = training_configuration.device\n",
    "    epoch_completed = 0\n",
    "    \n",
    "    model_path = os.path.join(model_dir, model_file_name)\n",
    "    if os.path.exists(model_path):\n",
    "        print(\"main() checkpoint exist- model_file_name\", model_file_name)\n",
    "        model, epoch_completed = load_model(model, model_dir, model_file_name)\n",
    "    else:\n",
    "        print(\"main() checkpoint does not exist- model_file_name\", model_file_name)\n",
    "        \n",
    "    # if GPU is available use training config, \n",
    "    # else lowers batch_size, num_workers and epochs count\n",
    "    if torch.cuda.is_available():\n",
    "        device = \"cuda\"\n",
    "    else:\n",
    "        device = \"cpu\"\n",
    "        batch_size_to_set = 16\n",
    "        num_workers_to_set = 4\n",
    "\n",
    "    # data loader\n",
    "    train_loader, test_loader = get_data(\n",
    "        batch_size=batch_size_to_set,\n",
    "        data_root=training_configuration.data_root,\n",
    "        num_workers=num_workers_to_set,\n",
    "        data_augmentation=data_augmentation\n",
    "    )\n",
    "    \n",
    "    # Update training configuration\n",
    "    training_configuration = TrainingConfiguration(\n",
    "        device=device,\n",
    "        batch_size=batch_size_to_set,\n",
    "        num_workers=num_workers_to_set\n",
    "    )\n",
    "        \n",
    "    # send model to device (GPU/CPU)\n",
    "    model.to(training_configuration.device)\n",
    "\n",
    "    best_loss = torch.tensor(np.inf)\n",
    "    \n",
    "    # epoch train/test loss\n",
    "    epoch_train_loss = np.array([])\n",
    "    epoch_test_loss = np.array([])\n",
    "    \n",
    "    # epch train/test accuracy\n",
    "    epoch_train_acc = np.array([])\n",
    "    epoch_test_acc = np.array([])\n",
    "    \n",
    "    # Calculate Initial Test Loss\n",
    "    init_val_loss, init_val_accuracy = validate(training_configuration, model, test_loader)\n",
    "    print(\"Initial Test Loss : {:.6f}, \\nInitial Test Accuracy : {:.3f}%\\n\".format(init_val_loss, \n",
    "                                                                                   init_val_accuracy*100))\n",
    "    \n",
    "    # trainig time measurement\n",
    "    t_begin = time.time()\n",
    "    for epoch in range(epoch_completed + 1, training_configuration.epochs_count):        \n",
    "        # Train\n",
    "        train_loss, train_acc = train(training_configuration, model, optimizer, train_loader, epoch)\n",
    "        \n",
    "        epoch_train_loss = np.append(epoch_train_loss, [train_loss])\n",
    "        \n",
    "        epoch_train_acc = np.append(epoch_train_acc, [train_acc])\n",
    "\n",
    "        elapsed_time = time.time() - t_begin\n",
    "        speed_epoch = elapsed_time / (epoch + 1)\n",
    "        speed_batch = speed_epoch / len(train_loader)\n",
    "        eta = speed_epoch * training_configuration.epochs_count - elapsed_time\n",
    "        \n",
    "        print(\n",
    "            \"Elapsed {:.2f}s, {:.2f} s/epoch, {:.2f} s/batch, ets {:.2f}s\".format(\n",
    "                elapsed_time, speed_epoch, speed_batch, eta\n",
    "            )\n",
    "        )\n",
    "\n",
    "        # Validate\n",
    "        if epoch % training_configuration.test_interval == 0:\n",
    "            current_loss, current_accuracy = validate(training_configuration, model, test_loader)\n",
    "            \n",
    "            epoch_test_loss = np.append(epoch_test_loss, [current_loss])\n",
    "        \n",
    "            epoch_test_acc = np.append(epoch_test_acc, [current_accuracy])\n",
    "            \n",
    "            if current_loss < best_loss:\n",
    "                best_loss = current_loss\n",
    "                print('Model Improved. Saving the Model...\\n')\n",
    "                # save_model(model, epoch, current_loss, device=training_configuration.device)\n",
    "                save_model(model, epoch, current_loss, device, model_dir, model_file_name)\n",
    "                \n",
    "    print(\"Total time: {:.2f}, Best Loss: {:.3f}\".format(time.time() - t_begin, best_loss))\n",
    "    \n",
    "    return model, epoch_train_loss, epoch_train_acc, epoch_test_loss, epoch_test_acc"
   ]
  },
  {
   "cell_type": "markdown",
   "metadata": {},
   "source": [
    "## <font style=\"color:blue\">4.7. Plot Loss and Accuracy</font>"
   ]
  },
  {
   "cell_type": "code",
   "execution_count": 22,
   "metadata": {},
   "outputs": [],
   "source": [
    "def plot_loss_accuracy(train_loss, val_loss, train_acc, val_acc, colors, \n",
    "                       loss_legend_loc='upper center', acc_legend_loc='upper left', \n",
    "                       fig_size=(20, 10), sub_plot1=(1, 2, 1), sub_plot2=(1, 2, 2)):\n",
    "    \n",
    "    plt.rcParams[\"figure.figsize\"] = fig_size\n",
    "    fig = plt.figure()\n",
    "    \n",
    "    plt.subplot(sub_plot1[0], sub_plot1[1], sub_plot1[2])\n",
    "    \n",
    "    for i in range(len(train_loss)):\n",
    "        x_train = range(len(train_loss[i]))\n",
    "        x_val = range(len(val_loss[i]))\n",
    "        \n",
    "        min_train_loss = train_loss[i].min()\n",
    "        \n",
    "        min_val_loss = val_loss[i].min()\n",
    "        \n",
    "        plt.plot(x_train, train_loss[i], linestyle='-', color='tab:{}'.format(colors[i]), \n",
    "                 label=\"TRAIN LOSS ({0:.4})\".format(min_train_loss))\n",
    "        plt.plot(x_val, val_loss[i], linestyle='--' , color='tab:{}'.format(colors[i]), \n",
    "                 label=\"VALID LOSS ({0:.4})\".format(min_val_loss))\n",
    "        \n",
    "    plt.xlabel('epoch no.')\n",
    "    plt.ylabel('loss')\n",
    "    plt.legend(loc=loss_legend_loc)\n",
    "    plt.title('Training and Validation Loss')\n",
    "        \n",
    "    plt.subplot(sub_plot2[0], sub_plot2[1], sub_plot2[2])\n",
    "    \n",
    "    for i in range(len(train_acc)):\n",
    "        x_train = range(len(train_acc[i]))\n",
    "        x_val = range(len(val_acc[i]))\n",
    "        \n",
    "        max_train_acc = train_acc[i].max() \n",
    "        \n",
    "        max_val_acc = val_acc[i].max() \n",
    "        \n",
    "        plt.plot(x_train, train_acc[i], linestyle='-', color='tab:{}'.format(colors[i]), \n",
    "                 label=\"TRAIN ACC ({0:.4})\".format(max_train_acc))\n",
    "        plt.plot(x_val, val_acc[i], linestyle='--' , color='tab:{}'.format(colors[i]), \n",
    "                 label=\"VALID ACC ({0:.4})\".format(max_val_acc))\n",
    "        \n",
    "    plt.xlabel('epoch no.')\n",
    "    plt.ylabel('accuracy')\n",
    "    plt.legend(loc=acc_legend_loc)\n",
    "    plt.title('Training and Validation Accuracy')\n",
    "    \n",
    "    fig.savefig('sample_loss_acc_plot.png')\n",
    "    plt.show()\n",
    "    \n",
    "    return   "
   ]
  },
  {
   "cell_type": "markdown",
   "metadata": {},
   "source": [
    "## <font style=\"color:red\">4.8. Define Model [20 Points]</font>\n",
    "\n",
    "Next, define the CNN model. Keep iterating. Do this by training various models. Just ,change the :\n",
    "    \n",
    "- number of layers\n",
    "- parameters inside the layers\n",
    "- different types of layers"
   ]
  },
  {
   "cell_type": "code",
   "execution_count": 23,
   "metadata": {},
   "outputs": [],
   "source": [
    "# import torch\n",
    "# import torch.nn as nn\n",
    "# import torch.nn.functional as F\n",
    "\n",
    "# class MyModel(nn.Module):\n",
    "#     def __init__(self):\n",
    "#         super().__init__()\n",
    "\n",
    "#         # Convolutional layers\n",
    "#         self.conv1 = nn.Conv2d(3, 16, kernel_size=5, padding=1)\n",
    "#         self.bn1 = nn.BatchNorm2d(16)\n",
    "\n",
    "#         self.conv2 = nn.Conv2d(16, 16, kernel_size=5, padding=1)\n",
    "#         self.bn2 = nn.BatchNorm2d(16)\n",
    "\n",
    "#         self.conv3 = nn.Conv2d(16, 32, kernel_size=3, padding=1)\n",
    "#         self.bn3 = nn.BatchNorm2d(32)\n",
    "\n",
    "#         self.conv4 = nn.Conv2d(32, 32, kernel_size=3, padding=1)\n",
    "#         self.bn4 = nn.BatchNorm2d(32)\n",
    "\n",
    "#         self.conv5 = nn.Conv2d(32, 32, kernel_size=3, padding=1)\n",
    "#         self.bn5 = nn.BatchNorm2d(32)\n",
    "\n",
    "#         self.conv6 = nn.Conv2d(32, 64, kernel_size=3, padding=1)\n",
    "#         self.bn6 = nn.BatchNorm2d(64)\n",
    "\n",
    "#         self.conv7 = nn.Conv2d(64, 64, kernel_size=3, padding=1)\n",
    "#         self.bn7 = nn.BatchNorm2d(64)\n",
    "\n",
    "#         self.conv8 = nn.Conv2d(64, 64, kernel_size=3, padding=1)\n",
    "#         self.bn8 = nn.BatchNorm2d(64)\n",
    "\n",
    "#         self.conv9 = nn.Conv2d(64, 128, kernel_size=3, padding=1)\n",
    "#         self.bn9 = nn.BatchNorm2d(128)\n",
    "\n",
    "#         self.conv10 = nn.Conv2d(128, 128, kernel_size=3, padding=1)\n",
    "#         self.bn10 = nn.BatchNorm2d(128)\n",
    "\n",
    "#         self.conv11 = nn.Conv2d(128, 256, kernel_size=3, padding=1)\n",
    "#         self.bn11 = nn.BatchNorm2d(256)\n",
    "\n",
    "#         self.conv12 = nn.Conv2d(256, 256, kernel_size=3, padding=1)\n",
    "#         self.bn12 = nn.BatchNorm2d(256)\n",
    "\n",
    "#         self.conv13 = nn.Conv2d(256, 256, kernel_size=3, padding=1)\n",
    "#         self.bn13 = nn.BatchNorm2d(256)\n",
    "\n",
    "#         # Fully connected layers\n",
    "#         self.fc1 = nn.Linear(256 * 6 * 6, 1024)\n",
    "#         self.fc2 = nn.Linear(1024, 512)\n",
    "#         self.fc3 = nn.Linear(512, 256)\n",
    "#         self.fc4 = nn.Linear(256, 128)\n",
    "#         self.fc5 = nn.Linear(128, 64)\n",
    "#         self.fc6 = nn.Linear(64, 3)\n",
    "\n",
    "#     def forward(self, x):\n",
    "#         # Convolutional feature extraction\n",
    "#         x = F.relu(self.bn1(self.conv1(x)))\n",
    "#         x = F.relu(self.bn2(self.conv2(x)))\n",
    "#         x = F.max_pool2d(x, kernel_size=2)  # output: 64x16x110x110\n",
    "\n",
    "#         x = F.relu(self.bn3(self.conv3(x)))\n",
    "#         x = F.relu(self.bn4(self.conv4(x)))\n",
    "#         x = F.relu(self.bn5(self.conv5(x)))\n",
    "#         x = F.max_pool2d(x, kernel_size=2)  # output: 64x32x55x55\n",
    "\n",
    "#         x = F.relu(self.bn6(self.conv6(x)))\n",
    "#         x = F.relu(self.bn7(self.conv7(x)))\n",
    "#         x = F.relu(self.bn8(self.conv8(x)))\n",
    "#         x = F.max_pool2d(x, kernel_size=2)  # output: 64x64x27x27\n",
    "\n",
    "#         x = F.relu(self.bn9(self.conv9(x)))\n",
    "#         x = F.relu(self.bn10(self.conv10(x)))\n",
    "#         x = F.max_pool2d(x, kernel_size=2)  # output: 64x128x13x13\n",
    "\n",
    "#         x = F.relu(self.bn11(self.conv11(x)))\n",
    "#         x = F.relu(self.bn12(self.conv12(x)))\n",
    "#         x = F.relu(self.bn13(self.conv13(x)))\n",
    "#         x = F.max_pool2d(x, kernel_size=2)  # output: 64x256x6x6\n",
    "\n",
    "#         # Flatten before feeding to fully connected layers\n",
    "#         x = x.view(x.size(0), -1)\n",
    "\n",
    "#         # Fully connected classification head\n",
    "#         x = F.relu(self.fc1(x))\n",
    "#         x = F.dropout(x, p=0.25, training=self.training)\n",
    "\n",
    "#         x = F.relu(self.fc2(x))\n",
    "#         x = F.dropout(x, p=0.25, training=self.training)\n",
    "\n",
    "#         x = F.relu(self.fc3(x))\n",
    "#         x = F.dropout(x, p=0.5, training=self.training)\n",
    "\n",
    "#         x = F.relu(self.fc4(x))\n",
    "#         x = F.dropout(x, p=0.5, training=self.training)\n",
    "\n",
    "#         x = F.relu(self.fc5(x))\n",
    "#         x = F.dropout(x, p=0.5, training=self.training)\n",
    "\n",
    "#         x = self.fc6(x)  # No activation here as it's likely for classification\n",
    "\n",
    "#         return x\n"
   ]
  },
  {
   "cell_type": "code",
   "execution_count": 24,
   "metadata": {},
   "outputs": [],
   "source": [
    "class MyModel(nn.Module):\n",
    "    def __init__(self):\n",
    "        super().__init__()\n",
    "\n",
    "        # convolution layers\n",
    "        self._body = nn.Sequential(\n",
    "            nn.Conv2d(in_channels=3, out_channels=32, kernel_size=7),\n",
    "            nn.ReLU(inplace=True),\n",
    "            nn.MaxPool2d(kernel_size=2),\n",
    "            \n",
    "            nn.Conv2d(in_channels=32, out_channels=64, kernel_size=5),\n",
    "            nn.ReLU(inplace=True),\n",
    "            nn.MaxPool2d(kernel_size=2),\n",
    "        )\n",
    "\n",
    "        \n",
    "        # Fully connected layers\n",
    "        self._head = nn.Sequential(\n",
    "            nn.Linear(in_features=64*52*52, out_features=1024), \n",
    "            nn.ReLU(inplace=True),\n",
    "            \n",
    "            nn.Linear(in_features=1024, out_features=3)\n",
    "            \n",
    "        )\n",
    "    \n",
    "    def forward(self, x):\n",
    "        \n",
    "        # apply feature extractor\n",
    "        x = self._body(x)\n",
    "        # flatten the output of conv layers\n",
    "        # dimension should be batch_size * number_of weight_in_last conv_layer\n",
    "        x = x.view(x.size()[0], -1)\n",
    "        # apply classification head\n",
    "        x = self._head(x)\n",
    "        \n",
    "        \n",
    "        return x"
   ]
  },
  {
   "cell_type": "markdown",
   "metadata": {},
   "source": [
    "## <font style=\"color:red\">4.9. Training [20 Points]</font>\n",
    "\n",
    "Experiment with:\n",
    "\n",
    "- Optimizers and learning rate schedulers \\[You can  get good results even without a learning rate scheduler\\]\n",
    "\n",
    "- Regularization techniques like Data Augmentation, Dropout, BatchNorm"
   ]
  },
  {
   "cell_type": "code",
   "execution_count": 25,
   "metadata": {},
   "outputs": [
    {
     "name": "stdout",
     "output_type": "stream",
     "text": [
      "MyModel(\n",
      "  (_body): Sequential(\n",
      "    (0): Conv2d(3, 32, kernel_size=(7, 7), stride=(1, 1))\n",
      "    (1): ReLU(inplace=True)\n",
      "    (2): MaxPool2d(kernel_size=2, stride=2, padding=0, dilation=1, ceil_mode=False)\n",
      "    (3): Conv2d(32, 64, kernel_size=(5, 5), stride=(1, 1))\n",
      "    (4): ReLU(inplace=True)\n",
      "    (5): MaxPool2d(kernel_size=2, stride=2, padding=0, dilation=1, ceil_mode=False)\n",
      "  )\n",
      "  (_head): Sequential(\n",
      "    (0): Linear(in_features=173056, out_features=1024, bias=True)\n",
      "    (1): ReLU(inplace=True)\n",
      "    (2): Linear(in_features=1024, out_features=3, bias=True)\n",
      "  )\n",
      ")\n"
     ]
    }
   ],
   "source": [
    "model = MyModel()\n",
    "print(model)\n",
    "\n",
    "# get optimizer\n",
    "train_config = TrainingConfiguration()\n",
    "\n",
    "### CHANGE HERE ###\n",
    "\n",
    "# optimizer\n",
    "optimizer = optim.Adam(\n",
    "    model.parameters(),\n",
    "    lr = train_config.init_learning_rate,\n",
    "    betas=(0.9, 0.999),\n",
    "    eps=1e-08,\n",
    "    weight_decay=0, #turn\n",
    "    amsgrad=False\n",
    ")\n",
    "\n",
    "decay_rate = 0.9\n",
    "scheduler = lr_scheduler.ExponentialLR(optimizer, gamma=decay_rate)"
   ]
  },
  {
   "cell_type": "code",
   "execution_count": 26,
   "metadata": {},
   "outputs": [
    {
     "name": "stdout",
     "output_type": "stream",
     "text": [
      "main() checkpoint does not exist- model_file_name cat_dog_panda_classifier.pt\n"
     ]
    },
    {
     "name": "stderr",
     "output_type": "stream",
     "text": [
      "/home/shreyas/virtualenvs/pytorch_env/lib/python3.12/site-packages/torch/cuda/__init__.py:129: UserWarning: CUDA initialization: CUDA unknown error - this may be due to an incorrectly set up environment, e.g. changing env variable CUDA_VISIBLE_DEVICES after program start. Setting the available devices to be zero. (Triggered internally at /pytorch/c10/cuda/CUDAFunctions.cpp:109.)\n",
      "  return torch._C._cuda_getDeviceCount() > 0\n"
     ]
    },
    {
     "name": "stdout",
     "output_type": "stream",
     "text": [
      "mean: tensor([0.4551, 0.4301, 0.3894]), std: tensor([0.2749, 0.2648, 0.2628])\n",
      "\n",
      "Test set: Average loss: 1.1275, Accuracy: 10/30 (33%)\n",
      "\n",
      "Initial Test Loss : 1.127522, \n",
      "Initial Test Accuracy : 33.333%\n",
      "\n",
      "Epoch: 1 \n",
      "Train Loss: 11.655706 Acc: 0.3516\n",
      "Elapsed 9.32s, 4.66 s/epoch, 0.58 s/batch, ets 0.00s\n",
      "\n",
      "Test set: Average loss: 1.0968, Accuracy: 10/30 (33%)\n",
      "\n",
      "Model Improved. Saving the Model...\n",
      "\n",
      "Total time: 10.45, Best Loss: 1.097\n"
     ]
    }
   ],
   "source": [
    "# train and validate\n",
    "model, train_loss, train_acc, val_loss, val_acc = main(model, optimizer, scheduler=scheduler, data_augmentation=True)"
   ]
  },
  {
   "cell_type": "markdown",
   "metadata": {},
   "source": [
    "## <font style=\"color:blue\">4.10. Loss and Accuracy Plot</font>"
   ]
  },
  {
   "cell_type": "code",
   "execution_count": 27,
   "metadata": {},
   "outputs": [
    {
     "data": {
      "image/png": "[encoded data removed]",
      "text/plain": [
       "<Figure size 2000x1000 with 2 Axes>"
      ]
     },
     "metadata": {},
     "output_type": "display_data"
    }
   ],
   "source": [
    "plot_loss_accuracy(train_loss=[train_loss], \n",
    "                   val_loss=[val_loss], \n",
    "                   train_acc=[train_acc], \n",
    "                   val_acc=[val_acc], \n",
    "                   colors=['blue'], \n",
    "                   loss_legend_loc='upper center', \n",
    "                   acc_legend_loc='upper left')"
   ]
  },
  {
   "cell_type": "markdown",
   "metadata": {},
   "source": [
    "# <font style=\"color:blue\">Step 5. Sample Prediction</font><a name=\"step5\"></a>\n",
    "\n",
    "Show some sample predictions."
   ]
  },
  {
   "cell_type": "markdown",
   "metadata": {},
   "source": [
    "## <font style=\"color:blue\">5.1. Make Predictions</font>"
   ]
  },
  {
   "cell_type": "code",
   "execution_count": 28,
   "metadata": {},
   "outputs": [],
   "source": [
    "def prediction(model, device, batch_input):\n",
    "    \n",
    "#     data = batch_input.to(device)\n",
    "    data = batch_input.to(\"cpu\")\n",
    "    \n",
    "    with torch.no_grad():\n",
    "        output = model(data)\n",
    "\n",
    "    # Score to probability using softmax\n",
    "    prob = F.softmax(output, dim=1)\n",
    "\n",
    "    # get the max probability\n",
    "    pred_prob = prob.data.max(dim=1)[0]\n",
    "    \n",
    "    # get the index of the max probability\n",
    "    pred_index = prob.data.max(dim=1)[1]\n",
    "    \n",
    "    return pred_index.cpu().numpy(), pred_prob.cpu().numpy()"
   ]
  },
  {
   "cell_type": "markdown",
   "metadata": {},
   "source": [
    "## <font style=\"color:blue\">5.2. Get Predictions on a Batch</font>"
   ]
  },
  {
   "cell_type": "code",
   "execution_count": 39,
   "metadata": {},
   "outputs": [],
   "source": [
    "def get_sample_prediction(model, data_root, mean, std):\n",
    "    batch_size = 15\n",
    "\n",
    "    if torch.cuda.is_available():\n",
    "        device = \"cuda\"\n",
    "        num_workers = 8\n",
    "    else:\n",
    "        device = \"cpu\"\n",
    "        num_workers = 2\n",
    "    \n",
    "    # It is important to do model.eval() before prediction\n",
    "    model.eval()\n",
    "    \n",
    "    # Send model to cpu/cuda according to your system configuration\n",
    "#     model.to(device)\n",
    "    model.to(\"cpu\")\n",
    "    # transformed data\n",
    "    test_dataset_trans = datasets.ImageFolder(root=data_root, transform=image_common_transforms(mean, std))\n",
    "    \n",
    "    # original image dataset\n",
    "    test_dataset = datasets.ImageFolder(root=data_root, transform=image_preprocess_transforms())\n",
    "\n",
    "\n",
    "    img = test_dataset.__getitem__(1)\n",
    "    print(\"img\", type(img))\n",
    "    # img = transforms.functional.to_pil_image(imgs[i])\n",
    "    \n",
    "    # data_len = test_dataset.__len__()\n",
    "    \n",
    "    # interval = int(data_len/batch_size)\n",
    "    \n",
    "    # imgs = []\n",
    "    # inputs = []\n",
    "    # targets = []\n",
    "    # for i in range(batch_size):\n",
    "    #     index = i * interval\n",
    "    #     trans_input, target = test_dataset_trans.__getitem__(index)\n",
    "    #     img, _ = test_dataset.__getitem__(index)\n",
    "    #     imgs.append(img)\n",
    "    #     inputs.append(trans_input)\n",
    "    #     targets.append(target)\n",
    "\n",
    "    # inputs = torch.stack(inputs)\n",
    "        \n",
    "    # cls, prob = prediction(model, device, batch_input=inputs)\n",
    "    \n",
    "    # plt.style.use('default')\n",
    "    # plt.rcParams[\"figure.figsize\"] = (15, 9)\n",
    "    # fig = plt.figure()\n",
    "    \n",
    "    \n",
    "    # for i, target in enumerate(targets):\n",
    "    #     plt.subplot(3, 5, i+1)\n",
    "    #     img = transforms.functional.to_pil_image(imgs[i])\n",
    "    #     plt.imshow(img)\n",
    "    #     plt.gca().set_title('P:{0}({1:.2}), T:{2}'.format(test_dataset.classes[cls[i]], \n",
    "    #                                                  prob[i], \n",
    "    #                                                  test_dataset.classes[targets[i]]))\n",
    "    # fig.savefig('sample_prediction.png')\n",
    "    # plt.show()\n",
    "    \n",
    "    # return\n",
    "        \n",
    "    "
   ]
  },
  {
   "cell_type": "markdown",
   "metadata": {},
   "source": [
    "## <font style=\"color:blue\">5.3. Load Model and Run Inference</font>"
   ]
  },
  {
   "cell_type": "code",
   "execution_count": 40,
   "metadata": {},
   "outputs": [
    {
     "name": "stdout",
     "output_type": "stream",
     "text": [
      "mean: tensor([0.4551, 0.4301, 0.3894]), std: tensor([0.2749, 0.2648, 0.2628])\n",
      "img <class 'tuple'>\n"
     ]
    }
   ],
   "source": [
    "train_config = TrainingConfiguration()\n",
    "model_dir = train_config.model_dir\n",
    "model_file_name = train_config.model_file_name\n",
    "\n",
    "m = MyModel()\n",
    "m, epoch = load_model(m, model_dir, model_file_name)\n",
    "\n",
    "test_data_path = os.path.join(train_config.data_root, 'validation')\n",
    "train_data_path = os.path.join(train_config.data_root, 'training')\n",
    "\n",
    "mean, std = get_mean_std(train_data_path)\n",
    "\n",
    "get_sample_prediction(m, test_data_path, mean, std)"
   ]
  },
  {
   "cell_type": "markdown",
   "metadata": {},
   "source": [
    "# <font style=\"color:red\">Step 6. Display Confusion Matrix [10 Points]</font><a name=\"step6\"></a>\n",
    "\n",
    "Display the confusion matrix for the above problem(Refer to the earlier lectures on Performance Metrics).\n",
    "\n",
    "\n",
    "The output should resemble this:\n",
    "\n",
    "<img src='https://www.learnopencv.com/wp-content/uploads/2020/02/c3_w5_sample_confusion_matrix.png' width=600>\n"
   ]
  },
  {
   "cell_type": "code",
   "execution_count": 31,
   "metadata": {},
   "outputs": [],
   "source": [
    "# YOUR CODE HERE\n",
    "def create_confusion_matrix(model, data_root, mean, std):\n",
    "    batch_size = 15\n",
    "\n",
    "    if torch.cuda.is_available():\n",
    "        device = \"cuda\"\n",
    "        num_workers = 8\n",
    "    else:\n",
    "        device = \"cpu\"\n",
    "        num_workers = 2\n",
    "    \n",
    "    # It is important to do model.eval() before prediction\n",
    "    model.eval()\n",
    "    \n",
    "    # Send model to cpu/cuda according to your system configuration\n",
    "#     model.to(device)\n",
    "    model.to(\"cpu\")\n",
    "\n",
    "    # transformed data\n",
    "    test_dataset_trans = datasets.ImageFolder(root=data_root, transform=image_common_transforms(mean, std))\n",
    "    \n",
    "    # original image dataset\n",
    "    test_dataset = datasets.ImageFolder(root=data_root, transform=image_preprocess_transforms())\n",
    "    \n",
    "    data_len = test_dataset.__len__()\n",
    "    \n",
    "    interval = int(data_len/batch_size)\n",
    "    \n",
    "    # imgs = []\n",
    "    inputs = []\n",
    "    targets = []\n",
    "    for i in range(batch_size):\n",
    "        index = i * interval\n",
    "        trans_input, target = test_dataset_trans.__getitem__(index)\n",
    "        # img, _ = test_dataset.__getitem__(index)\n",
    "        \n",
    "        # imgs.append(img)\n",
    "        inputs.append(trans_input)\n",
    "        targets.append(target)\n",
    "        \n",
    "    inputs = torch.stack(inputs)\n",
    "        \n",
    "    cls, prob = prediction(model, device, batch_input=inputs)\n",
    "\n",
    "    cm = confusion_matrix(targets, cls)\n",
    "\n",
    "    class_lables = ['cat', 'dog', 'panda']\n",
    "    plt.figure()\n",
    "    sns.heatmap(cm, annot=True, fmt='',\n",
    "              xticklabels=class_lables, yticklabels=class_lables)\n",
    "    \n",
    "    plt.title(\"Confusion Matrix\")\n",
    "    plt.xlabel(\"Predicted Class\")\n",
    "    plt.ylabel(\"True Class\")\n",
    "    plt.show()\n",
    "    \n",
    "    return"
   ]
  },
  {
   "cell_type": "code",
   "execution_count": 32,
   "metadata": {},
   "outputs": [
    {
     "name": "stdout",
     "output_type": "stream",
     "text": [
      "mean: tensor([0.4551, 0.4301, 0.3894]), std: tensor([0.2749, 0.2648, 0.2628])\n"
     ]
    },
    {
     "data": {
      "image/png": "[encoded data removed]",
      "text/plain": [
       "<Figure size 1500x900 with 2 Axes>"
      ]
     },
     "metadata": {},
     "output_type": "display_data"
    }
   ],
   "source": [
    "from sklearn.metrics import confusion_matrix\n",
    "import seaborn as sns\n",
    "\n",
    "train_config = TrainingConfiguration()\n",
    "model_dir = train_config.model_dir\n",
    "model_file_name = train_config.model_file_name\n",
    "\n",
    "m = MyModel()\n",
    "m, epoch = load_model(m, model_dir, model_file_name)\n",
    "\n",
    "\n",
    "test_data_path = os.path.join(train_config.data_root, 'validation')\n",
    "train_data_path = os.path.join(train_config.data_root, 'training')\n",
    "\n",
    "mean, std = get_mean_std(train_data_path)\n",
    "\n",
    "create_confusion_matrix(m, test_data_path, mean, std)"
   ]
  },
  {
   "cell_type": "markdown",
   "metadata": {},
   "source": [
    "Upon completing the assignment,  <font style=\"color:red\">pload the 2 notebooks and the models folder on the portal for feedback.</font>"
   ]
  }
 ],
 "metadata": {
  "hide_input": false,
  "kernelspec": {
   "display_name": "Python 3 (ipykernel)",
   "language": "python",
   "name": "python3"
  },
  "language_info": {
   "codemirror_mode": {
    "name": "ipython",
    "version": 3
   },
   "file_extension": ".py",
   "mimetype": "text/x-python",
   "name": "python",
   "nbconvert_exporter": "python",
   "pygments_lexer": "ipython3",
   "version": "3.12.3"
  },
  "toc": {
   "base_numbering": 1,
   "nav_menu": {},
   "number_sections": false,
   "sideBar": false,
   "skip_h1_title": false,
   "title_cell": "Table of Contents",
   "title_sidebar": "Contents",
   "toc_cell": false,
   "toc_position": {},
   "toc_section_display": true,
   "toc_window_display": false
  },
  "varInspector": {
   "cols": {
    "lenName": 16,
    "lenType": 16,
    "lenVar": 40
   },
   "kernels_config": {
    "python": {
     "delete_cmd_postfix": "",
     "delete_cmd_prefix": "del ",
     "library": "var_list.py",
     "varRefreshCmd": "print(var_dic_list())"
    },
    "r": {
     "delete_cmd_postfix": ") ",
     "delete_cmd_prefix": "rm(",
     "library": "var_list.r",
     "varRefreshCmd": "cat(var_dic_list()) "
    }
   },
   "types_to_exclude": [
    "module",
    "function",
    "builtin_function_or_method",
    "instance",
    "_Feature"
   ],
   "window_display": false
  }
 },
 "nbformat": 4,
 "nbformat_minor": 4
}
