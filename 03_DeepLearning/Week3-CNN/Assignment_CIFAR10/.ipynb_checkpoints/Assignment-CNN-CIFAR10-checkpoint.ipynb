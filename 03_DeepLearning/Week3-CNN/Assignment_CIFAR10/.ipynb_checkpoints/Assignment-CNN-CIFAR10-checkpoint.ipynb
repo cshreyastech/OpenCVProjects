{
 "cells": [
  {
   "cell_type": "markdown",
   "metadata": {
    "deletable": false,
    "editable": false,
    "nbgrader": {
     "grade": false,
     "locked": true,
     "solution": false
    }
   },
   "source": [
    "# <font style=\"color:blue\">Assignment: Implement a CNN for Image Classification on CIFAR10 dataset</font>\n",
    "\n",
    "We have seen how to implement a CNN (LeNet5 and LeNet with the batch norm) in the last section. We used MNIST and Fashion MNIST dataset which are grayscale or single channel datasets. In this assignment, you will implement a CNN Model ( similar to LeNet ) for classifying objects in the `CIFAR10` dataset. \n",
    "\n",
    "The CIFAR10 dataset has the following properties\n",
    "1. It has `10` classes.  \n",
    "1. It has colored images, so it has `3-channels`. \n",
    "1. The image shape is `32 x 32`.\n",
    "\n",
    "Samples of CIFAR10- dataset ([source](https://pytorch.org/tutorials/beginner/blitz/cifar10_tutorial.html?highlight=cifar)):\n",
    "\n",
    "<img src=\"https://www.learnopencv.com/wp-content/uploads/2020/01/c3_w3_cirar10.png\" width=700>\n",
    "\n",
    "\n",
    "# <font color='blue'>Marking Scheme</font>\n",
    "\n",
    "### <font style=\"color:green\">Maximum Points: 30\n",
    "\n",
    "<div>\n",
    "    <table>\n",
    "        <tr><td><h3>Sr. no.</h3></td> <td><h3>Problem</h3></td> <td><h3>Points</h3></td> </tr>\n",
    "        <tr><td><h3>1</h3></td> <td><h3>Implement the CNN Model</h3></td> <td><h3>10</h3></td> </tr>\n",
    "        <tr><td><h3>2</h3></td> <td><h3>Find Mean and Std of Training Data</h3></td> <td><h3>5</h3></td> </tr>\n",
    "        <tr><td><h3>3</h3></td> <td><h3>Model Training & Accuracy</h3></td> <td><h3>15</h3></td> </tr>\n",
    "    </table>\n",
    "</div>\n",
    "\n",
    "\n",
    "# <font color='blue'>Problem Description</font>\n",
    "\n",
    "### <font color='blue'>1. Implement the CNN Model</font>\n",
    "Since the task is to classify objects in a dataset of color images, you need to implement a CNN with 10 output classes. **Also, your model must use `Conv2d`, `BatchNorm2d`, and `ReLU`.** \n",
    "\n",
    "**You need to define the model architecture in the function: `MyModel` ( Step 1 )**\n",
    "\n",
    "Hint: For color images you need to use an input shape that is different than the ones we have been using till now, so that it accepts 3 channel inputs.\n",
    "\n",
    "### <font color='blue'>2. Find Mean and Std of Training Data</font>\n",
    "\n",
    "It is a good practice to normalize the training data. To normalize the data, we need to compute mean and std. As the dataset has colored images, it has `3-channel` (RGB or BGR). We have to find mean and std per channel using training data. \n",
    "\n",
    "**You need to compute the mean and std for the dataset in the function: `get_mean_std_train_data` ( Step 3 )**\n",
    "\n",
    "### <font color='blue'>3. Model Training and Accuracy</font>\n",
    "\n",
    "Once you have defined the model, you can train it. To get better accuracy, you need to play around the training configuration **( Step 5 )** and even the model architecture. You can check the accuracy by running the training loop in `Step 11`.\n",
    "\n",
    "Here are a few hints on how you can improve the accuracy:\n",
    "- Train for longer duration\n",
    "- Try with different learning rate\n",
    "- Try to add more convolutional layers to the architecture\n",
    "- Try to add more nodes in the layers.\n",
    "\n",
    "You need to achieve **75% accuracy** ( See Step11 ) in order to get full marks for this part. \n",
    "\n",
    "**You do not need to implement anything for this, just changing the parameters as mentioned above and running the Notebook will give you the accuracy. ( Step 5 and Step 11 )**"
   ]
  },
  {
   "cell_type": "markdown",
   "metadata": {
    "deletable": false,
    "editable": false,
    "nbgrader": {
     "grade": false,
     "locked": true,
     "solution": false
    }
   },
   "source": [
    "Note that this notebook requires you to change a few stuff in the model to get the desired accuracy. Therefore you need train the model all over again (which seems to be time-consuming).   \n",
    "\n",
    "You can choose to execute this notebook in Google-Colab so that you have access to a GPU-machine and prototype faster.   \n",
    "\n",
    "Once the desired results are acheived, you can copy-paste the changes made in the Colab-notebook to this notebook so that the grading occurs on the latest code. \n",
    "\n",
    "You can access the Colab-notebook from [here](https://colab.research.google.com/drive/18lgSRmHPagJkB0xmDq5ZiWGkuWcHnUc2?usp=sharing)"
   ]
  },
  {
   "cell_type": "code",
   "execution_count": 1,
   "metadata": {
    "deletable": false,
    "editable": false,
    "nbgrader": {
     "grade": false,
     "locked": true,
     "solution": false
    }
   },
   "outputs": [],
   "source": [
    "required_training = True"
   ]
  },
  {
   "cell_type": "code",
   "execution_count": 2,
   "metadata": {
    "deletable": false,
    "editable": false,
    "nbgrader": {
     "grade": false,
     "locked": true,
     "solution": false
    }
   },
   "outputs": [],
   "source": [
    "%matplotlib inline"
   ]
  },
  {
   "cell_type": "code",
   "execution_count": 3,
   "metadata": {
    "deletable": false,
    "editable": false,
    "nbgrader": {
     "grade": false,
     "locked": true,
     "solution": false
    }
   },
   "outputs": [],
   "source": [
    "import matplotlib.pyplot as plt  # one of the best graphics library for python"
   ]
  },
  {
   "cell_type": "code",
   "execution_count": 4,
   "metadata": {
    "deletable": false,
    "editable": false,
    "nbgrader": {
     "grade": false,
     "locked": true,
     "solution": false
    }
   },
   "outputs": [],
   "source": [
    "import os\n",
    "import time\n",
    "\n",
    "from typing import Iterable\n",
    "from dataclasses import dataclass\n",
    "\n",
    "import numpy as np\n",
    "import torch\n",
    "import torch.nn as nn\n",
    "import torch.optim as optim\n",
    "import torch.nn.functional as F\n",
    "\n",
    "from torchvision import datasets, transforms\n",
    "import torchvision"
   ]
  },
  {
   "cell_type": "markdown",
   "metadata": {},
   "source": [
    "# <font style=\"color:blue\">1. CNN Model Architecture [10 Points]</font>\n",
    "\n",
    "You have to write the model code here. You can take reference from LeNet code.\n",
    "\n",
    "If you do not get higher accuracy, here are a few hints:\n",
    "- Try to add more convolutional layers to the architecture\n",
    "- Try to add more nodes in the layers.\n"
   ]
  },
  {
   "cell_type": "code",
   "execution_count": 5,
   "metadata": {},
   "outputs": [],
   "source": [
    "# class MyModel(nn.Module):\n",
    "#     def __init__(self):\n",
    "#         super().__init__()\n",
    "\n",
    "#         ###\n",
    "#         ### YOUR CODE HERE\n",
    "#         ###\n",
    "#         # convolution layers\n",
    "#         self._body = nn.Sequential(\n",
    "#             # First convolution Layer\n",
    "#             # n_out = floor((n_in + 2p - k) / s) + 1\n",
    "            \n",
    "#             # n_out = floor(((32 + 2 * 0 - 5) / 1) + 1 = 28\n",
    "#             # input size = (32, 32), output size = (28, 28)\n",
    "#             nn.Conv2d(in_channels=3, out_channels=6, kernel_size=5),\n",
    "#             nn.BatchNorm2d(6),\n",
    "#             # ReLU activation\n",
    "#             nn.ReLU(inplace=True),\n",
    "            \n",
    "#             # Max pool 2-d\n",
    "#             # n_out = floor(((28 + 2 * 0 - 2) / 2) + 1 = 14\n",
    "#             nn.MaxPool2d(kernel_size=2),\n",
    "            \n",
    "#             # Second convolution layer\n",
    "#             # input size = (14, 14), output size = (10, 10)\n",
    "#             # n_out = floor(((14 + 2 * 0 - 5) / 1) + 1 = 10\n",
    "#             nn.Conv2d(in_channels=6, out_channels=16, kernel_size=5),\n",
    "#             nn.BatchNorm2d(16),\n",
    "#             nn.ReLU(inplace=True),\n",
    "            \n",
    "#             # n_out = floor(((10 + 2 * 0 - 2) / 2) + 1 = 5\n",
    "#             nn.MaxPool2d(kernel_size=2),\n",
    "#             # output size = (5, 5)\n",
    "#         )\n",
    "        \n",
    "#         # Fully connected layers\n",
    "#         self._head = nn.Sequential(\n",
    "#             # First fully connected layer\n",
    "#             # in_features = total number of weights in last conv layer = 16 * 5 * 5\n",
    "#             nn.Linear(in_features=16 * 5 * 5, out_features=120), \n",
    "            \n",
    "#             # ReLU activation\n",
    "#             nn.ReLU(inplace=True),\n",
    "            \n",
    "#             # second fully connected layer\n",
    "#             # in_features = output of last linear layer = 120 \n",
    "#             nn.Linear(in_features=120, out_features=84), \n",
    "            \n",
    "#             # ReLU activation\n",
    "#             nn.ReLU(inplace=True),\n",
    "            \n",
    "#             # Third fully connected layer which is also output layer\n",
    "#             # in_features = output of last linear layer = 84\n",
    "#             # and out_features = number of classes = 10 (MNIST data 0-9)\n",
    "#             nn.Linear(in_features=84, out_features=10)\n",
    "#         )\n",
    "\n",
    "#     def forward(self, x):\n",
    "#         # apply feature extractor\n",
    "#         x = self._body(x)\n",
    "#         print(\"x shape1 \", x.shape)\n",
    "#         # flatten the output of conv layers\n",
    "#         # dimension should be batch_size * number_of weight_in_last conv_layer\n",
    "#         x = x.view(x.size()[0], -1)\n",
    "#         print(\"x shape2 \", x.shape)\n",
    "#         # apply classification head\n",
    "#         x = self._head(x)\n",
    "#         print(\"x shape3 \", x.shape)\n",
    "#         return x"
   ]
  },
  {
   "cell_type": "code",
   "execution_count": 6,
   "metadata": {},
   "outputs": [],
   "source": [
    "# class MyModel(nn.Module):\n",
    "#     def __init__(self):\n",
    "#         super().__init__()\n",
    "\n",
    "#         ###\n",
    "#         ### YOUR CODE HERE\n",
    "#         ###\n",
    "#         # convolution layers\n",
    "#         self._body = nn.Sequential(\n",
    "#             # First convolution Layer\n",
    "#             # n_out = floor((n_in + 2p - k) / s) + 1\n",
    "            \n",
    "#             # n_out = floor(((32 + 2 * 0 - 3) / 1) + 1 = 30\n",
    "#             # input size = (32, 32), output size = (30, 30)\n",
    "#             nn.Conv2d(in_channels=3, out_channels=6, kernel_size=3),\n",
    "#             nn.BatchNorm2d(6),\n",
    "#             # ReLU activation\n",
    "#             nn.ReLU(inplace=True),\n",
    "            \n",
    "#             # Max pool 2-d\n",
    "#             # n_out = floor(((30 + 2 * 0 - 2) / 2) + 1 = 15\n",
    "#             nn.MaxPool2d(kernel_size=2),\n",
    "            \n",
    "#             # Second convolution layer\n",
    "#             # input size = (15, 15), output size = (10, 10)\n",
    "#             # n_out = floor(((15 + 2 * 0 - 3) / 1) + 1 = 13\n",
    "#             nn.Conv2d(in_channels=6, out_channels=16, kernel_size=3),\n",
    "#             nn.BatchNorm2d(16),\n",
    "#             nn.ReLU(inplace=True),\n",
    "            \n",
    "#             # n_out = floor(((13 + 2 * 0 - 2) / 2) + 1 = 6\n",
    "#             nn.MaxPool2d(kernel_size=2),\n",
    "#             # output size = (6, 6)\n",
    "\n",
    "#             # Third convolution layer\n",
    "#             # input size = (5, 5), output size = (10, 10)\n",
    "#             # n_out = floor(((5 + 2 * 0 - 3) / 1) + 1 = 3\n",
    "#             # nn.Conv2d(in_channels=5, out_channels=32, kernel_size=3),\n",
    "#             # nn.BatchNorm2d(32),\n",
    "#             # nn.ReLU(inplace=True),\n",
    "            \n",
    "#             # n_out = floor(((3 + 2 * 0 - 2) / 2) + 1 = 5\n",
    "#             # nn.MaxPool2d(kernel_size=2),\n",
    "#             # output size = (5, 5)\n",
    "#         )\n",
    "        \n",
    "#         # Fully connected layers\n",
    "#         self._head = nn.Sequential(\n",
    "#             # First fully connected layer\n",
    "#             # in_features = total number of weights in last conv layer = 16 * 5 * 5\n",
    "#             nn.Linear(in_features=16 * 6 * 6, out_features=120), \n",
    "            \n",
    "#             # ReLU activation\n",
    "#             nn.ReLU(inplace=True),\n",
    "            \n",
    "#             # second fully connected layer\n",
    "#             # in_features = output of last linear layer = 120 \n",
    "#             nn.Linear(in_features=120, out_features=84), \n",
    "            \n",
    "#             # ReLU activation\n",
    "#             nn.ReLU(inplace=True),\n",
    "            \n",
    "#             # Third fully connected layer which is also output layer\n",
    "#             # in_features = output of last linear layer = 84\n",
    "#             # and out_features = number of classes = 10 (MNIST data 0-9)\n",
    "#             nn.Linear(in_features=84, out_features=10)\n",
    "#         )\n",
    "\n",
    "#     def forward(self, x):\n",
    "#         # apply feature extractor\n",
    "#         x = self._body(x)\n",
    "#         print(\"x shape1 \", x.shape)\n",
    "#         # flatten the output of conv layers\n",
    "#         # dimension should be batch_size * number_of weight_in_last conv_layer\n",
    "#         x = x.view(x.size()[0], -1)\n",
    "#         print(\"x shape2 \", x.shape)\n",
    "#         # apply classification head\n",
    "#         x = self._head(x)\n",
    "#         print(\"x shape3 \", x.shape)\n",
    "#         return x"
   ]
  },
  {
   "cell_type": "code",
   "execution_count": 7,
   "metadata": {},
   "outputs": [],
   "source": [
    "class MyModel(nn.Module):\n",
    "    def __init__(self):\n",
    "        super().__init__()\n",
    "\n",
    "        ###\n",
    "        ### YOUR CODE HERE\n",
    "        ###\n",
    "        # convolution layers\n",
    "        self._body = nn.Sequential(\n",
    "            # First convolution Layer\n",
    "            # n_out = floor((n_in + 2p - k) / s) + 1\n",
    "            \n",
    "            # n_out = floor(((32 + 2 * 0 - 3) / 1) + 1 = 30\n",
    "            # input size = (32, 32), output size = (30, 30)\n",
    "            nn.Conv2d(in_channels=3, out_channels=6, kernel_size=3),\n",
    "            nn.BatchNorm2d(6),\n",
    "            # ReLU activation\n",
    "            nn.ReLU(inplace=True),\n",
    "            nn.Dropout(p=0.2),\n",
    "            # Max pool 2-d\n",
    "            # n_out = floor(((30 + 2 * 0 - 2) / 2) + 1 = 15\n",
    "            nn.MaxPool2d(kernel_size=2),\n",
    "            \n",
    "            # Second convolution layer\n",
    "            # input size = (15, 15), output size = (10, 10)\n",
    "            # n_out = floor(((15 + 2 * 0 - 3) / 1) + 1 = 13\n",
    "            nn.Conv2d(in_channels=6, out_channels=16, kernel_size=3),\n",
    "            nn.BatchNorm2d(16),\n",
    "            nn.ReLU(inplace=True),\n",
    "            \n",
    "            # n_out = floor(((13 + 2 * 0 - 2) / 2) + 1 = 6\n",
    "            # nn.MaxPool2d(kernel_size=2),\n",
    "            # output size = (6, 6)\n",
    "\n",
    "            # Third convolution layer\n",
    "            # input size = (5, 5), output size = (10, 10)\n",
    "            # n_out = floor(((13 + 2 * 0 - 3) / 1) + 1 = 11\n",
    "            nn.Conv2d(in_channels=16, out_channels=32, kernel_size=3),\n",
    "            nn.BatchNorm2d(32),\n",
    "            nn.ReLU(inplace=True),\n",
    "            \n",
    "            # n_out = floor(((11 + 2 * 0 - 2) / 2) + 1 = 5\n",
    "            nn.MaxPool2d(kernel_size=2),\n",
    "            # output size = (5, 5)\n",
    "        )\n",
    "        \n",
    "        # Fully connected layers\n",
    "        self._head = nn.Sequential(\n",
    "            # First fully connected layer\n",
    "            # in_features = total number of weights in last conv layer = 16 * 5 * 5\n",
    "            nn.Linear(in_features=32 * 5 * 5, out_features=120), \n",
    "            \n",
    "            # ReLU activation\n",
    "            nn.ReLU(inplace=True),\n",
    "            \n",
    "            # second fully connected layer\n",
    "            # in_features = output of last linear layer = 120 \n",
    "            nn.Linear(in_features=120, out_features=84), \n",
    "            \n",
    "            # ReLU activation\n",
    "            nn.ReLU(inplace=True),\n",
    "\n",
    "            nn.Linear(in_features=84, out_features=50), \n",
    "            \n",
    "            # ReLU activation\n",
    "            nn.ReLU(inplace=True),\n",
    "            \n",
    "            # Third fully connected layer which is also output layer\n",
    "            # in_features = output of last linear layer = 84\n",
    "            # and out_features = number of classes = 10 (MNIST data 0-9)\n",
    "            nn.Linear(in_features=50, out_features=10)\n",
    "        )\n",
    "\n",
    "    def forward(self, x):\n",
    "        # apply feature extractor\n",
    "        x = self._body(x)\n",
    "        \n",
    "        # print(\"x shape1 \", x.shape)\n",
    "        # flatten the output of conv layers\n",
    "        # dimension should be batch_size * number_of weight_in_last conv_layer\n",
    "        x = x.view(x.size()[0], -1)\n",
    "        # print(\"x shape2 \", x.shape)\n",
    "        # apply classification head\n",
    "        x = self._head(x)\n",
    "        # print(\"x shape3 \", x.shape)\n",
    "        return x"
   ]
  },
  {
   "cell_type": "markdown",
   "metadata": {
    "deletable": false,
    "editable": false,
    "nbgrader": {
     "grade": false,
     "locked": true,
     "solution": false
    }
   },
   "source": [
    "# <font style=\"color:blue\">2. Display the Network</font>"
   ]
  },
  {
   "cell_type": "code",
   "execution_count": 8,
   "metadata": {
    "deletable": false,
    "editable": false,
    "nbgrader": {
     "grade": false,
     "locked": true,
     "solution": false
    }
   },
   "outputs": [
    {
     "name": "stdout",
     "output_type": "stream",
     "text": [
      "MyModel(\n",
      "  (_body): Sequential(\n",
      "    (0): Conv2d(3, 6, kernel_size=(3, 3), stride=(1, 1))\n",
      "    (1): BatchNorm2d(6, eps=1e-05, momentum=0.1, affine=True, track_running_stats=True)\n",
      "    (2): ReLU(inplace=True)\n",
      "    (3): MaxPool2d(kernel_size=2, stride=2, padding=0, dilation=1, ceil_mode=False)\n",
      "    (4): Conv2d(6, 16, kernel_size=(3, 3), stride=(1, 1))\n",
      "    (5): BatchNorm2d(16, eps=1e-05, momentum=0.1, affine=True, track_running_stats=True)\n",
      "    (6): ReLU(inplace=True)\n",
      "    (7): Conv2d(16, 32, kernel_size=(3, 3), stride=(1, 1))\n",
      "    (8): BatchNorm2d(32, eps=1e-05, momentum=0.1, affine=True, track_running_stats=True)\n",
      "    (9): ReLU(inplace=True)\n",
      "    (10): MaxPool2d(kernel_size=2, stride=2, padding=0, dilation=1, ceil_mode=False)\n",
      "  )\n",
      "  (_head): Sequential(\n",
      "    (0): Linear(in_features=800, out_features=120, bias=True)\n",
      "    (1): ReLU(inplace=True)\n",
      "    (2): Linear(in_features=120, out_features=84, bias=True)\n",
      "    (3): ReLU(inplace=True)\n",
      "    (4): Linear(in_features=84, out_features=50, bias=True)\n",
      "    (5): ReLU(inplace=True)\n",
      "    (6): Linear(in_features=50, out_features=10, bias=True)\n",
      "  )\n",
      ")\n"
     ]
    }
   ],
   "source": [
    "my_model = MyModel()\n",
    "print(my_model)"
   ]
  },
  {
   "cell_type": "code",
   "execution_count": 9,
   "metadata": {
    "deletable": false,
    "editable": false,
    "nbgrader": {
     "grade": true,
     "grade_id": "Conv2d",
     "locked": true,
     "points": "3",
     "solution": false
    }
   },
   "outputs": [],
   "source": [
    "###\n",
    "### AUTOGRADER TEST - DO NOT REMOVE\n",
    "###\n"
   ]
  },
  {
   "cell_type": "code",
   "execution_count": 10,
   "metadata": {
    "deletable": false,
    "editable": false,
    "nbgrader": {
     "grade": true,
     "grade_id": "BatchNorm2d",
     "locked": true,
     "points": "2",
     "solution": false
    }
   },
   "outputs": [],
   "source": [
    "###\n",
    "### AUTOGRADER TEST - DO NOT REMOVE\n",
    "###\n"
   ]
  },
  {
   "cell_type": "code",
   "execution_count": 11,
   "metadata": {
    "deletable": false,
    "editable": false,
    "nbgrader": {
     "grade": true,
     "grade_id": "ReLU",
     "locked": true,
     "points": "2",
     "solution": false
    }
   },
   "outputs": [],
   "source": [
    "###\n",
    "### AUTOGRADER TEST - DO NOT REMOVE\n",
    "###\n"
   ]
  },
  {
   "cell_type": "code",
   "execution_count": 12,
   "metadata": {
    "deletable": false,
    "editable": false,
    "nbgrader": {
     "grade": true,
     "grade_id": "input-output",
     "locked": true,
     "points": "3",
     "solution": false
    }
   },
   "outputs": [],
   "source": [
    "###\n",
    "### AUTOGRADER TEST - DO NOT REMOVE\n",
    "###\n"
   ]
  },
  {
   "cell_type": "markdown",
   "metadata": {
    "deletable": false,
    "editable": false,
    "lines_to_next_cell": 2,
    "nbgrader": {
     "grade": false,
     "locked": true,
     "solution": false
    }
   },
   "source": [
    "# <font style=\"color:blue\">3. Find Mean and STD of CIFAR10 Data [5 Points]</font>\n",
    "\n",
    "Function **`get_mean_std_train_data`** should `return` `mean` and `std` of training data. You can refer to the code used in the previous section for finding the mean and std of the training data.\n",
    "\n"
   ]
  },
  {
   "cell_type": "code",
   "execution_count": 13,
   "metadata": {
    "nbgrader": {
     "grade": false,
     "locked": false,
     "solution": false
    }
   },
   "outputs": [],
   "source": [
    "def get_mean_std_train_data(data_root):\n",
    "    \n",
    "    train_transform = transforms.Compose([transforms.ToTensor()])\n",
    "    train_set = datasets.CIFAR10(root=data_root, train=True, download=False, transform=train_transform)\n",
    "    \n",
    "    # return mean (numpy.ndarray) and std (numpy.ndarray)\n",
    "    mean = np.array([0.5, 0.5, 0.5])\n",
    "    std  = np.array([0.5, 0.5, 0.5])\n",
    "    \n",
    "    ###\n",
    "    ### YOUR CODE HERE\n",
    "    ###\n",
    "    mean = train_set.data.float().mean()/255\n",
    "    std  = train_set.data.float().std()/255\n",
    "    return mean, std\n",
    "\n"
   ]
  },
  {
   "cell_type": "code",
   "execution_count": 14,
   "metadata": {
    "deletable": false,
    "editable": false,
    "lines_to_next_cell": 2,
    "nbgrader": {
     "grade": true,
     "grade_id": "mean",
     "locked": true,
     "points": "2",
     "solution": false
    }
   },
   "outputs": [],
   "source": [
    "###\n",
    "### AUTOGRADER TEST - DO NOT REMOVE\n",
    "###\n"
   ]
  },
  {
   "cell_type": "code",
   "execution_count": 15,
   "metadata": {
    "deletable": false,
    "editable": false,
    "lines_to_next_cell": 2,
    "nbgrader": {
     "grade": true,
     "grade_id": "std",
     "locked": true,
     "points": "3",
     "solution": false
    }
   },
   "outputs": [],
   "source": [
    "###\n",
    "### AUTOGRADER TEST - DO NOT REMOVE\n",
    "###\n"
   ]
  },
  {
   "cell_type": "code",
   "execution_count": 16,
   "metadata": {
    "deletable": false,
    "editable": false,
    "nbgrader": {
     "grade": false,
     "locked": true,
     "solution": false
    }
   },
   "outputs": [],
   "source": [
    "def get_data(batch_size, data_root, num_workers=1):\n",
    "    \n",
    "    \n",
    "    try:\n",
    "        mean, std = get_mean_std_train_data(data_root)\n",
    "        assert len(mean) == len(std) == 3\n",
    "    except:\n",
    "        mean = np.array([0.5, 0.5, 0.5])\n",
    "        std = np.array([0.5, 0.5, 0.5])\n",
    "        \n",
    "    \n",
    "    train_test_transforms = transforms.Compose([\n",
    "        # this re-scale image tensor values between 0-1. image_tensor /= 255\n",
    "        transforms.ToTensor(),\n",
    "        # subtract mean and divide by variance.\n",
    "        transforms.Normalize(mean, std)\n",
    "    ])\n",
    "    \n",
    "    # train dataloader\n",
    "    train_loader = torch.utils.data.DataLoader(\n",
    "        datasets.CIFAR10(root=data_root, train=True, download=False, transform=train_test_transforms),\n",
    "        batch_size=batch_size,\n",
    "        shuffle=True,\n",
    "        num_workers=num_workers\n",
    "    )\n",
    "    \n",
    "    # test dataloader\n",
    "    test_loader = torch.utils.data.DataLoader(\n",
    "        datasets.CIFAR10(root=data_root, train=False, download=False, transform=train_test_transforms),\n",
    "        batch_size=batch_size,\n",
    "        shuffle=False,\n",
    "        num_workers=num_workers\n",
    "    )\n",
    "    return train_loader, test_loader"
   ]
  },
  {
   "cell_type": "markdown",
   "metadata": {
    "deletable": false,
    "editable": false,
    "nbgrader": {
     "grade": false,
     "locked": true,
     "solution": false
    }
   },
   "source": [
    "# <font style=\"color:blue\">4. System Configuration</font>\n"
   ]
  },
  {
   "cell_type": "code",
   "execution_count": 17,
   "metadata": {
    "deletable": false,
    "editable": false,
    "nbgrader": {
     "grade": false,
     "locked": true,
     "solution": false
    }
   },
   "outputs": [],
   "source": [
    "@dataclass\n",
    "class SystemConfiguration:\n",
    "    '''\n",
    "    Describes the common system setting needed for reproducible training\n",
    "    '''\n",
    "    seed: int = 42  # seed number to set the state of all random number generators\n",
    "    cudnn_benchmark_enabled: bool = True  # enable CuDNN benchmark for the sake of performance\n",
    "    cudnn_deterministic: bool = True  # make cudnn deterministic (reproducible training)"
   ]
  },
  {
   "cell_type": "markdown",
   "metadata": {
    "deletable": false,
    "editable": false,
    "nbgrader": {
     "grade": false,
     "locked": true,
     "solution": false
    }
   },
   "source": [
    "# <font style=\"color:blue\">5. Training Configuration [15 Points]</font>\n",
    "All training parameters are defined here. So, \n",
    "This is where you can improve your accuracy, apart from improving the architecture. \n",
    "\n",
    "Here are a few hints on how you can improve the accuracy:\n",
    "- Train for longer duration\n",
    "- Try with different learning rate\n",
    "\n",
    "**You need to achieve 75% accuracy in order to get full marks for this part.**\n",
    "\n",
    "**You will see the effect of these changes when you run Step 11**"
   ]
  },
  {
   "cell_type": "code",
   "execution_count": 18,
   "metadata": {
    "nbgrader": {
     "grade": false,
     "locked": false,
     "solution": false
    }
   },
   "outputs": [],
   "source": [
    "@dataclass\n",
    "class TrainingConfiguration:\n",
    "    '''\n",
    "    Describes configuration of the training process\n",
    "    '''\n",
    "    batch_size: int = 32  # amount of data to pass through the network at each forward-backward iteration\n",
    "    epochs_count: int = 20  # number of times the whole dataset will be passed through the network\n",
    "    learning_rate: float = 0.01  # determines the speed of network's weights update\n",
    "        \n",
    "    log_interval: int = 100  # how many batches to wait between logging training status\n",
    "    test_interval: int = 1  # how many epochs to wait before another test. Set to 1 to get val loss at each epoch\n",
    "\n",
    "    # \"../resource/lib/publicdata/images\"  # folder to save data\n",
    "    data_root: str = \"../../../../data/resource/lib/publicdata/images\"  # folder to save data\n",
    "    num_workers: int = 10  # number of concurrent processes using to prepare data\n",
    "    device: str = 'cuda'  # device to use for training.\n",
    "    # update changed parameters in blow coding block.\n",
    "    # Please do not change \"data_root\" \n",
    "    \n",
    "    ###\n",
    "    ### YOUR CODE HERE\n",
    "    ###\n"
   ]
  },
  {
   "cell_type": "markdown",
   "metadata": {
    "deletable": false,
    "editable": false,
    "nbgrader": {
     "grade": false,
     "locked": true,
     "solution": false
    }
   },
   "source": [
    "# <font style=\"color:blue\">6. System Setup</font>\n"
   ]
  },
  {
   "cell_type": "code",
   "execution_count": 19,
   "metadata": {
    "deletable": false,
    "editable": false,
    "nbgrader": {
     "grade": false,
     "locked": true,
     "solution": false
    }
   },
   "outputs": [],
   "source": [
    "def setup_system(system_config: SystemConfiguration) -> None:\n",
    "    torch.manual_seed(system_config.seed)\n",
    "    if torch.cuda.is_available():\n",
    "        torch.backends.cudnn_benchmark_enabled = system_config.cudnn_benchmark_enabled\n",
    "        torch.backends.cudnn.deterministic = system_config.cudnn_deterministic"
   ]
  },
  {
   "cell_type": "markdown",
   "metadata": {
    "deletable": false,
    "editable": false,
    "nbgrader": {
     "grade": false,
     "locked": true,
     "solution": false
    }
   },
   "source": [
    "# <font style=\"color:blue\">7. Training</font>\n",
    "We are familiar with the training pipeline used in PyTorch. The following steps are performed in the code below:\n",
    "\n",
    "1. Send the data to the required device ( CPU/GPU )\n",
    "1. Make a forward pass using the forward method.\n",
    "1. Find the loss using the Cross_Entropy function.\n",
    "1. Find the gradients using the backward function.\n",
    "1. Update the weights using the optimizer.\n",
    "1. Find the accuracy of the model\n",
    "\n",
    "Repeat the above for the specified number of epochs."
   ]
  },
  {
   "cell_type": "code",
   "execution_count": 20,
   "metadata": {
    "deletable": false,
    "editable": false,
    "nbgrader": {
     "grade": false,
     "locked": true,
     "solution": false
    }
   },
   "outputs": [],
   "source": [
    "def train(\n",
    "    train_config: TrainingConfiguration, model: nn.Module, optimizer: torch.optim.Optimizer,\n",
    "    train_loader: torch.utils.data.DataLoader, epoch_idx: int\n",
    ") -> None:\n",
    "    \n",
    "    # change model in training mood\n",
    "    model.train()\n",
    "    \n",
    "    # to get batch loss\n",
    "    batch_loss = np.array([])\n",
    "    \n",
    "    # to get batch accuracy\n",
    "    batch_acc = np.array([])\n",
    "        \n",
    "    for batch_idx, (data, target) in enumerate(train_loader):\n",
    "        \n",
    "        # clone target\n",
    "        indx_target = target.clone()\n",
    "        # send data to device (its is medatory if GPU has to be used)\n",
    "        data = data.to(train_config.device)\n",
    "        # send target to device\n",
    "        target = target.to(train_config.device)\n",
    "\n",
    "        # reset parameters gradient to zero\n",
    "        optimizer.zero_grad()\n",
    "        \n",
    "        # forward pass to the model\n",
    "        output = model(data)\n",
    "        \n",
    "        # cross entropy loss\n",
    "        loss = F.cross_entropy(output, target)\n",
    "        \n",
    "        # find gradients w.r.t training parameters\n",
    "        loss.backward()\n",
    "        # Update parameters using gardients\n",
    "        optimizer.step()\n",
    "        \n",
    "        batch_loss = np.append(batch_loss, [loss.item()])\n",
    "        \n",
    "        # Score to probability using softmax\n",
    "        prob = F.softmax(output, dim=1)\n",
    "            \n",
    "        # get the index of the max probability\n",
    "        pred = prob.data.max(dim=1)[1]  \n",
    "                        \n",
    "        # correct prediction\n",
    "        correct = pred.cpu().eq(indx_target).sum()\n",
    "            \n",
    "        # accuracy\n",
    "        acc = float(correct) / float(len(data))\n",
    "        \n",
    "        batch_acc = np.append(batch_acc, [acc])\n",
    "\n",
    "        if batch_idx % train_config.log_interval == 0 and batch_idx > 0:              \n",
    "            print(\n",
    "                'Train Epoch: {} [{}/{}] Loss: {:.6f} Acc: {:.4f}'.format(\n",
    "                    epoch_idx, batch_idx * len(data), len(train_loader.dataset), loss.item(), acc\n",
    "                )\n",
    "            )\n",
    "            \n",
    "    epoch_loss = batch_loss.mean()\n",
    "    epoch_acc = batch_acc.mean()\n",
    "    return epoch_loss, epoch_acc"
   ]
  },
  {
   "cell_type": "markdown",
   "metadata": {
    "deletable": false,
    "editable": false,
    "nbgrader": {
     "grade": false,
     "locked": true,
     "solution": false
    }
   },
   "source": [
    "# <font style=\"color:blue\">8. Validation</font>\n",
    "\n",
    "After every few epochs **`validation`** will be called with the `trained model` and `test_loader` to get validation loss and accuracy."
   ]
  },
  {
   "cell_type": "code",
   "execution_count": 21,
   "metadata": {
    "deletable": false,
    "editable": false,
    "nbgrader": {
     "grade": false,
     "locked": true,
     "solution": false
    }
   },
   "outputs": [],
   "source": [
    "def validate(\n",
    "    train_config: TrainingConfiguration,\n",
    "    model: nn.Module,\n",
    "    test_loader: torch.utils.data.DataLoader,\n",
    ") -> float:\n",
    "    model.eval()\n",
    "    test_loss = 0\n",
    "    count_corect_predictions = 0\n",
    "    for data, target in test_loader:\n",
    "        indx_target = target.clone()\n",
    "        data = data.to(train_config.device)\n",
    "        \n",
    "        target = target.to(train_config.device)\n",
    "        \n",
    "        output = model(data)\n",
    "        # add loss for each mini batch\n",
    "        test_loss += F.cross_entropy(output, target).item()\n",
    "        \n",
    "        # Score to probability using softmax\n",
    "        prob = F.softmax(output, dim=1)\n",
    "        \n",
    "        # get the index of the max probability\n",
    "        pred = prob.data.max(dim=1)[1] \n",
    "        \n",
    "        # add correct prediction count\n",
    "        count_corect_predictions += pred.cpu().eq(indx_target).sum()\n",
    "\n",
    "    # average over number of mini-batches\n",
    "    test_loss = test_loss / len(test_loader)  \n",
    "    \n",
    "    # average over number of dataset\n",
    "    accuracy = 100. * count_corect_predictions / len(test_loader.dataset)\n",
    "    \n",
    "    print(\n",
    "        '\\nTest set: Average loss: {:.4f}, Accuracy: {}/{} ({:.0f}%)\\n'.format(\n",
    "            test_loss, count_corect_predictions, len(test_loader.dataset), accuracy\n",
    "        )\n",
    "    )\n",
    "    return test_loss, accuracy/100.0"
   ]
  },
  {
   "cell_type": "markdown",
   "metadata": {
    "deletable": false,
    "editable": false,
    "nbgrader": {
     "grade": false,
     "locked": true,
     "solution": false
    }
   },
   "source": [
    "# <font style=\"color:blue\">9. Saving the Model</font>"
   ]
  },
  {
   "cell_type": "code",
   "execution_count": 22,
   "metadata": {
    "deletable": false,
    "editable": false,
    "nbgrader": {
     "grade": false,
     "locked": true,
     "solution": false
    }
   },
   "outputs": [],
   "source": [
    "def save_model(model, device, model_dir='models', model_file_name='cifar10_cnn_model.pt'):\n",
    "    \n",
    "\n",
    "    if not os.path.exists(model_dir):\n",
    "        os.makedirs(model_dir)\n",
    "\n",
    "    model_path = os.path.join(model_dir, model_file_name)\n",
    "\n",
    "    # make sure you transfer the model to cpu.\n",
    "    if device == 'cuda':\n",
    "        model.to('cpu')\n",
    "\n",
    "    # save the state_dict\n",
    "    if int(torch.__version__.split('.')[1]) >= 6:\n",
    "        torch.save(model.state_dict(), model_path, _use_new_zipfile_serialization=False)\n",
    "    \n",
    "    else:\n",
    "        torch.save(model.state_dict(), model_path)\n",
    "    \n",
    "    if device == 'cuda':\n",
    "        model.to('cuda')\n",
    "    \n",
    "    return"
   ]
  },
  {
   "cell_type": "markdown",
   "metadata": {
    "deletable": false,
    "editable": false,
    "nbgrader": {
     "grade": false,
     "locked": true,
     "solution": false
    }
   },
   "source": [
    "# <font style=\"color:blue\">10. Main</font>\n",
    "\n",
    "In this section of code, we use the configuration parameters defined above and start the training. Here are the important actions being taken in the code below:\n",
    "\n",
    "1. Set up system parameters like CPU/GPU, number of threads etc\n",
    "1. Load the data using dataloaders\n",
    "1. Create an instance of the LeNet model\n",
    "1. Specify optimizer to use.\n",
    "1. Set up variables to track loss and accuracy and start training.\n",
    "1. If loss decreases, saving the model"
   ]
  },
  {
   "cell_type": "code",
   "execution_count": 23,
   "metadata": {
    "deletable": false,
    "editable": false,
    "nbgrader": {
     "grade": false,
     "locked": true,
     "solution": false
    }
   },
   "outputs": [],
   "source": [
    "def main(system_configuration=SystemConfiguration(), training_configuration=TrainingConfiguration()):\n",
    "    \n",
    "    # system configuration\n",
    "    setup_system(system_configuration)\n",
    "\n",
    "    # batch size\n",
    "    batch_size_to_set = training_configuration.batch_size\n",
    "    # num_workers\n",
    "    num_workers_to_set = training_configuration.num_workers\n",
    "    # epochs\n",
    "    epoch_num_to_set = training_configuration.epochs_count\n",
    "\n",
    "    # if GPU is available use training config, \n",
    "    # else lowers batch_size, num_workers and epochs count\n",
    "    if torch.cuda.is_available():\n",
    "        device = \"cuda\"\n",
    "    else:\n",
    "        device = \"cpu\"\n",
    "        num_workers_to_set = 2\n",
    "\n",
    "    # data loader\n",
    "    train_loader, test_loader = get_data(\n",
    "        batch_size=training_configuration.batch_size,\n",
    "        data_root=training_configuration.data_root,\n",
    "        num_workers=num_workers_to_set\n",
    "    )\n",
    "    \n",
    "    # Update training configuration\n",
    "    training_configuration = TrainingConfiguration(\n",
    "        device=device,\n",
    "        num_workers=num_workers_to_set\n",
    "    )\n",
    "\n",
    "    # initiate model\n",
    "    model = MyModel()\n",
    "        \n",
    "    # send model to device (GPU/CPU)\n",
    "    model.to(training_configuration.device)\n",
    "\n",
    "    # optimizer\n",
    "    optimizer = optim.SGD(\n",
    "        model.parameters(),\n",
    "        lr=training_configuration.learning_rate\n",
    "    )\n",
    "\n",
    "    best_loss = torch.tensor(np.inf)\n",
    "    best_accuracy = torch.tensor(0)\n",
    "    \n",
    "    # epoch train/test loss\n",
    "    epoch_train_loss = np.array([])\n",
    "    epoch_test_loss = np.array([])\n",
    "    \n",
    "    # epch train/test accuracy\n",
    "    epoch_train_acc = np.array([])\n",
    "    epoch_test_acc = np.array([])\n",
    "    \n",
    "    # trainig time measurement\n",
    "    t_begin = time.time()\n",
    "    for epoch in range(training_configuration.epochs_count):\n",
    "        \n",
    "        train_loss, train_acc = train(training_configuration, model, optimizer, train_loader, epoch)\n",
    "        \n",
    "        epoch_train_loss = np.append(epoch_train_loss, [train_loss])\n",
    "        \n",
    "        epoch_train_acc = np.append(epoch_train_acc, [train_acc])\n",
    "\n",
    "        elapsed_time = time.time() - t_begin\n",
    "        speed_epoch = elapsed_time / (epoch + 1)\n",
    "        speed_batch = speed_epoch / len(train_loader)\n",
    "        eta = speed_epoch * training_configuration.epochs_count - elapsed_time\n",
    "        \n",
    "        print(\n",
    "            \"Elapsed {:.2f}s, {:.2f} s/epoch, {:.2f} s/batch, ets {:.2f}s\".format(\n",
    "                elapsed_time, speed_epoch, speed_batch, eta\n",
    "            )\n",
    "        )\n",
    "\n",
    "        if epoch % training_configuration.test_interval == 0:\n",
    "            current_loss, current_accuracy = validate(training_configuration, model, test_loader)\n",
    "            \n",
    "            epoch_test_loss = np.append(epoch_test_loss, [current_loss])\n",
    "        \n",
    "            epoch_test_acc = np.append(epoch_test_acc, [current_accuracy])\n",
    "            \n",
    "            if current_loss < best_loss:\n",
    "                best_loss = current_loss\n",
    "            \n",
    "            if current_accuracy > best_accuracy:\n",
    "                best_accuracy = current_accuracy\n",
    "                print('Accuracy improved, saving the model.\\n')\n",
    "                save_model(model, device)\n",
    "            \n",
    "                \n",
    "    print(\"Total time: {:.2f}, Best Loss: {:.3f}, Best Accuracy: {:.3f}\".format(time.time() - t_begin, best_loss, \n",
    "                                                                                best_accuracy))\n",
    "    \n",
    "    return model, epoch_train_loss, epoch_train_acc, epoch_test_loss, epoch_test_acc"
   ]
  },
  {
   "cell_type": "code",
   "execution_count": 24,
   "metadata": {
    "deletable": false,
    "editable": false,
    "nbgrader": {
     "grade": true,
     "grade_id": "Accuracy",
     "locked": true,
     "points": "15",
     "solution": false
    }
   },
   "outputs": [],
   "source": [
    "###\n",
    "### AUTOGRADER TEST - DO NOT REMOVE\n",
    "###\n"
   ]
  },
  {
   "cell_type": "markdown",
   "metadata": {},
   "source": [
    "# <font style=\"color:blue\">Step 11: Start Training</font>\n",
    "This is where you start the training. You may see that the training does not converge or does not give a good accuracy. You need to change \n",
    "- In Step 1: the network architecture and add a few more layers or more nodes to the already existing layers\n",
    "- In Step 5: training parameters such as learning rate or batch_size or epochs so that the network converges or run the network for longer so that it gets more time to fit the data\n",
    "\n",
    "**You need to make sure that the accuracy at the end is at least 75%.**"
   ]
  },
  {
   "cell_type": "code",
   "execution_count": 25,
   "metadata": {
    "deletable": false,
    "editable": false,
    "nbgrader": {
     "grade": false,
     "locked": true,
     "solution": false
    }
   },
   "outputs": [
    {
     "name": "stderr",
     "output_type": "stream",
     "text": [
      "/mnt/hd/disk2/virtual_envs/pytorch_env/lib/python3.10/site-packages/torch/cuda/__init__.py:129: UserWarning: CUDA initialization: CUDA unknown error - this may be due to an incorrectly set up environment, e.g. changing env variable CUDA_VISIBLE_DEVICES after program start. Setting the available devices to be zero. (Triggered internally at ../c10/cuda/CUDAFunctions.cpp:108.)\n",
      "  return torch._C._cuda_getDeviceCount() > 0\n"
     ]
    },
    {
     "name": "stdout",
     "output_type": "stream",
     "text": [
      "Train Epoch: 0 [3200/50000] Loss: 2.307644 Acc: 0.1562\n",
      "Train Epoch: 0 [6400/50000] Loss: 2.268779 Acc: 0.1562\n",
      "Train Epoch: 0 [9600/50000] Loss: 2.202281 Acc: 0.3125\n",
      "Train Epoch: 0 [12800/50000] Loss: 2.131568 Acc: 0.0938\n",
      "Train Epoch: 0 [16000/50000] Loss: 2.220320 Acc: 0.1562\n",
      "Train Epoch: 0 [19200/50000] Loss: 1.936408 Acc: 0.2188\n",
      "Train Epoch: 0 [22400/50000] Loss: 1.807457 Acc: 0.3438\n",
      "Train Epoch: 0 [25600/50000] Loss: 1.960368 Acc: 0.2188\n",
      "Train Epoch: 0 [28800/50000] Loss: 1.838768 Acc: 0.2500\n",
      "Train Epoch: 0 [32000/50000] Loss: 1.977651 Acc: 0.1875\n",
      "Train Epoch: 0 [35200/50000] Loss: 1.720750 Acc: 0.2500\n",
      "Train Epoch: 0 [38400/50000] Loss: 1.657009 Acc: 0.3438\n",
      "Train Epoch: 0 [41600/50000] Loss: 1.672820 Acc: 0.4062\n",
      "Train Epoch: 0 [44800/50000] Loss: 1.567288 Acc: 0.3438\n",
      "Train Epoch: 0 [48000/50000] Loss: 1.841648 Acc: 0.3438\n",
      "Elapsed 8.35s, 8.35 s/epoch, 0.01 s/batch, ets 158.66s\n",
      "\n",
      "Test set: Average loss: 1.6426, Accuracy: 3771/10000 (38%)\n",
      "\n",
      "Accuracy improved, saving the model.\n",
      "\n",
      "Train Epoch: 1 [3200/50000] Loss: 1.265805 Acc: 0.5000\n",
      "Train Epoch: 1 [6400/50000] Loss: 1.487844 Acc: 0.3750\n",
      "Train Epoch: 1 [9600/50000] Loss: 1.627854 Acc: 0.3750\n",
      "Train Epoch: 1 [12800/50000] Loss: 1.550143 Acc: 0.4375\n",
      "Train Epoch: 1 [16000/50000] Loss: 1.378957 Acc: 0.5000\n",
      "Train Epoch: 1 [19200/50000] Loss: 1.310638 Acc: 0.5625\n",
      "Train Epoch: 1 [22400/50000] Loss: 1.282425 Acc: 0.5000\n",
      "Train Epoch: 1 [25600/50000] Loss: 1.482032 Acc: 0.5000\n",
      "Train Epoch: 1 [28800/50000] Loss: 1.389020 Acc: 0.4375\n",
      "Train Epoch: 1 [32000/50000] Loss: 1.450053 Acc: 0.5000\n",
      "Train Epoch: 1 [35200/50000] Loss: 1.301016 Acc: 0.5000\n",
      "Train Epoch: 1 [38400/50000] Loss: 1.128406 Acc: 0.6250\n",
      "Train Epoch: 1 [41600/50000] Loss: 1.246166 Acc: 0.5625\n",
      "Train Epoch: 1 [44800/50000] Loss: 1.224445 Acc: 0.5625\n",
      "Train Epoch: 1 [48000/50000] Loss: 1.398668 Acc: 0.4688\n",
      "Elapsed 19.04s, 9.52 s/epoch, 0.01 s/batch, ets 171.40s\n",
      "\n",
      "Test set: Average loss: 1.3589, Accuracy: 5077/10000 (51%)\n",
      "\n",
      "Accuracy improved, saving the model.\n",
      "\n",
      "Train Epoch: 2 [3200/50000] Loss: 1.542155 Acc: 0.5000\n",
      "Train Epoch: 2 [6400/50000] Loss: 1.387005 Acc: 0.5000\n",
      "Train Epoch: 2 [9600/50000] Loss: 1.140713 Acc: 0.5312\n",
      "Train Epoch: 2 [12800/50000] Loss: 1.203863 Acc: 0.5312\n",
      "Train Epoch: 2 [16000/50000] Loss: 1.038037 Acc: 0.5938\n",
      "Train Epoch: 2 [19200/50000] Loss: 1.194470 Acc: 0.5625\n",
      "Train Epoch: 2 [22400/50000] Loss: 1.708492 Acc: 0.4688\n",
      "Train Epoch: 2 [25600/50000] Loss: 1.105984 Acc: 0.5938\n",
      "Train Epoch: 2 [28800/50000] Loss: 1.038973 Acc: 0.5938\n",
      "Train Epoch: 2 [32000/50000] Loss: 0.905769 Acc: 0.6562\n",
      "Train Epoch: 2 [35200/50000] Loss: 1.358445 Acc: 0.4688\n",
      "Train Epoch: 2 [38400/50000] Loss: 1.276774 Acc: 0.4688\n",
      "Train Epoch: 2 [41600/50000] Loss: 0.838710 Acc: 0.6875\n",
      "Train Epoch: 2 [44800/50000] Loss: 1.253507 Acc: 0.5625\n",
      "Train Epoch: 2 [48000/50000] Loss: 1.339123 Acc: 0.5312\n",
      "Elapsed 29.67s, 9.89 s/epoch, 0.01 s/batch, ets 168.13s\n",
      "\n",
      "Test set: Average loss: 1.2157, Accuracy: 5594/10000 (56%)\n",
      "\n",
      "Accuracy improved, saving the model.\n",
      "\n",
      "Train Epoch: 3 [3200/50000] Loss: 0.928824 Acc: 0.6562\n",
      "Train Epoch: 3 [6400/50000] Loss: 1.452255 Acc: 0.5000\n",
      "Train Epoch: 3 [9600/50000] Loss: 1.203766 Acc: 0.6250\n",
      "Train Epoch: 3 [12800/50000] Loss: 1.223328 Acc: 0.4688\n",
      "Train Epoch: 3 [16000/50000] Loss: 1.453908 Acc: 0.4688\n",
      "Train Epoch: 3 [19200/50000] Loss: 0.914272 Acc: 0.6875\n",
      "Train Epoch: 3 [22400/50000] Loss: 1.140774 Acc: 0.6562\n",
      "Train Epoch: 3 [25600/50000] Loss: 1.130097 Acc: 0.6250\n",
      "Train Epoch: 3 [28800/50000] Loss: 1.279313 Acc: 0.4375\n",
      "Train Epoch: 3 [32000/50000] Loss: 1.552508 Acc: 0.4375\n",
      "Train Epoch: 3 [35200/50000] Loss: 1.117839 Acc: 0.5625\n",
      "Train Epoch: 3 [38400/50000] Loss: 1.332223 Acc: 0.5938\n",
      "Train Epoch: 3 [41600/50000] Loss: 1.163723 Acc: 0.5938\n",
      "Train Epoch: 3 [44800/50000] Loss: 1.121416 Acc: 0.5625\n",
      "Train Epoch: 3 [48000/50000] Loss: 1.313539 Acc: 0.5625\n",
      "Elapsed 39.89s, 9.97 s/epoch, 0.01 s/batch, ets 159.57s\n",
      "\n",
      "Test set: Average loss: 1.1580, Accuracy: 5861/10000 (59%)\n",
      "\n",
      "Accuracy improved, saving the model.\n",
      "\n",
      "Train Epoch: 4 [3200/50000] Loss: 0.951541 Acc: 0.6875\n",
      "Train Epoch: 4 [6400/50000] Loss: 1.318534 Acc: 0.5000\n",
      "Train Epoch: 4 [9600/50000] Loss: 0.590860 Acc: 0.7812\n",
      "Train Epoch: 4 [12800/50000] Loss: 1.452313 Acc: 0.5000\n",
      "Train Epoch: 4 [16000/50000] Loss: 0.994154 Acc: 0.6562\n",
      "Train Epoch: 4 [19200/50000] Loss: 1.258592 Acc: 0.4688\n",
      "Train Epoch: 4 [22400/50000] Loss: 1.107381 Acc: 0.5938\n",
      "Train Epoch: 4 [25600/50000] Loss: 0.947265 Acc: 0.6562\n",
      "Train Epoch: 4 [28800/50000] Loss: 1.196766 Acc: 0.5625\n",
      "Train Epoch: 4 [32000/50000] Loss: 1.421077 Acc: 0.4688\n",
      "Train Epoch: 4 [35200/50000] Loss: 1.122513 Acc: 0.6562\n",
      "Train Epoch: 4 [38400/50000] Loss: 1.179720 Acc: 0.4688\n",
      "Train Epoch: 4 [41600/50000] Loss: 0.970630 Acc: 0.6562\n",
      "Train Epoch: 4 [44800/50000] Loss: 1.683288 Acc: 0.5000\n",
      "Train Epoch: 4 [48000/50000] Loss: 1.298069 Acc: 0.5312\n",
      "Elapsed 50.47s, 10.09 s/epoch, 0.01 s/batch, ets 151.40s\n",
      "\n",
      "Test set: Average loss: 1.1433, Accuracy: 5895/10000 (59%)\n",
      "\n",
      "Accuracy improved, saving the model.\n",
      "\n",
      "Train Epoch: 5 [3200/50000] Loss: 0.760738 Acc: 0.7500\n",
      "Train Epoch: 5 [6400/50000] Loss: 1.229849 Acc: 0.5625\n",
      "Train Epoch: 5 [9600/50000] Loss: 1.310679 Acc: 0.4375\n",
      "Train Epoch: 5 [12800/50000] Loss: 1.171645 Acc: 0.6250\n",
      "Train Epoch: 5 [16000/50000] Loss: 0.967654 Acc: 0.6875\n",
      "Train Epoch: 5 [19200/50000] Loss: 1.112733 Acc: 0.5000\n",
      "Train Epoch: 5 [22400/50000] Loss: 0.960704 Acc: 0.6562\n",
      "Train Epoch: 5 [25600/50000] Loss: 0.970824 Acc: 0.6250\n",
      "Train Epoch: 5 [28800/50000] Loss: 0.954712 Acc: 0.7500\n",
      "Train Epoch: 5 [32000/50000] Loss: 1.023716 Acc: 0.6875\n",
      "Train Epoch: 5 [35200/50000] Loss: 0.882475 Acc: 0.5625\n",
      "Train Epoch: 5 [38400/50000] Loss: 0.995224 Acc: 0.5625\n",
      "Train Epoch: 5 [41600/50000] Loss: 0.970599 Acc: 0.5938\n",
      "Train Epoch: 5 [44800/50000] Loss: 1.179968 Acc: 0.6250\n",
      "Train Epoch: 5 [48000/50000] Loss: 0.923744 Acc: 0.7500\n",
      "Elapsed 60.49s, 10.08 s/epoch, 0.01 s/batch, ets 141.13s\n",
      "\n",
      "Test set: Average loss: 1.0939, Accuracy: 6134/10000 (61%)\n",
      "\n",
      "Accuracy improved, saving the model.\n",
      "\n",
      "Train Epoch: 6 [3200/50000] Loss: 0.941776 Acc: 0.6562\n",
      "Train Epoch: 6 [6400/50000] Loss: 1.177046 Acc: 0.5312\n",
      "Train Epoch: 6 [9600/50000] Loss: 1.424374 Acc: 0.5625\n",
      "Train Epoch: 6 [12800/50000] Loss: 1.018502 Acc: 0.6250\n",
      "Train Epoch: 6 [16000/50000] Loss: 1.138857 Acc: 0.5938\n",
      "Train Epoch: 6 [19200/50000] Loss: 0.844035 Acc: 0.7188\n",
      "Train Epoch: 6 [22400/50000] Loss: 1.079973 Acc: 0.5938\n",
      "Train Epoch: 6 [25600/50000] Loss: 0.744587 Acc: 0.6875\n",
      "Train Epoch: 6 [28800/50000] Loss: 0.865503 Acc: 0.6250\n",
      "Train Epoch: 6 [32000/50000] Loss: 0.780745 Acc: 0.6250\n",
      "Train Epoch: 6 [35200/50000] Loss: 0.957995 Acc: 0.5625\n",
      "Train Epoch: 6 [38400/50000] Loss: 1.159960 Acc: 0.5625\n",
      "Train Epoch: 6 [41600/50000] Loss: 0.775432 Acc: 0.7500\n",
      "Train Epoch: 6 [44800/50000] Loss: 1.144633 Acc: 0.5938\n",
      "Train Epoch: 6 [48000/50000] Loss: 0.892095 Acc: 0.8125\n",
      "Elapsed 70.70s, 10.10 s/epoch, 0.01 s/batch, ets 131.30s\n",
      "\n",
      "Test set: Average loss: 1.0235, Accuracy: 6406/10000 (64%)\n",
      "\n",
      "Accuracy improved, saving the model.\n",
      "\n",
      "Train Epoch: 7 [3200/50000] Loss: 0.683183 Acc: 0.8438\n",
      "Train Epoch: 7 [6400/50000] Loss: 0.819165 Acc: 0.6250\n",
      "Train Epoch: 7 [9600/50000] Loss: 0.743902 Acc: 0.7500\n",
      "Train Epoch: 7 [12800/50000] Loss: 1.004347 Acc: 0.5938\n",
      "Train Epoch: 7 [16000/50000] Loss: 0.958045 Acc: 0.6875\n",
      "Train Epoch: 7 [19200/50000] Loss: 0.868419 Acc: 0.6250\n",
      "Train Epoch: 7 [22400/50000] Loss: 0.789419 Acc: 0.8125\n",
      "Train Epoch: 7 [25600/50000] Loss: 0.976903 Acc: 0.6562\n",
      "Train Epoch: 7 [28800/50000] Loss: 0.862051 Acc: 0.6562\n",
      "Train Epoch: 7 [32000/50000] Loss: 1.030085 Acc: 0.6875\n",
      "Train Epoch: 7 [35200/50000] Loss: 0.963903 Acc: 0.5938\n",
      "Train Epoch: 7 [38400/50000] Loss: 1.157257 Acc: 0.5625\n",
      "Train Epoch: 7 [41600/50000] Loss: 0.839867 Acc: 0.6875\n",
      "Train Epoch: 7 [44800/50000] Loss: 0.763192 Acc: 0.6875\n",
      "Train Epoch: 7 [48000/50000] Loss: 0.661843 Acc: 0.8438\n",
      "Elapsed 80.52s, 10.07 s/epoch, 0.01 s/batch, ets 120.79s\n",
      "\n",
      "Test set: Average loss: 1.0539, Accuracy: 6254/10000 (63%)\n",
      "\n",
      "Train Epoch: 8 [3200/50000] Loss: 1.098654 Acc: 0.6250\n",
      "Train Epoch: 8 [6400/50000] Loss: 0.659834 Acc: 0.8438\n",
      "Train Epoch: 8 [9600/50000] Loss: 0.874836 Acc: 0.6562\n",
      "Train Epoch: 8 [12800/50000] Loss: 0.835546 Acc: 0.5938\n",
      "Train Epoch: 8 [16000/50000] Loss: 0.983064 Acc: 0.6562\n",
      "Train Epoch: 8 [19200/50000] Loss: 0.936018 Acc: 0.6875\n",
      "Train Epoch: 8 [22400/50000] Loss: 1.027501 Acc: 0.6562\n",
      "Train Epoch: 8 [25600/50000] Loss: 0.654728 Acc: 0.8125\n",
      "Train Epoch: 8 [28800/50000] Loss: 0.952026 Acc: 0.6562\n",
      "Train Epoch: 8 [32000/50000] Loss: 0.598954 Acc: 0.8438\n",
      "Train Epoch: 8 [35200/50000] Loss: 0.923083 Acc: 0.6875\n",
      "Train Epoch: 8 [38400/50000] Loss: 0.638144 Acc: 0.7500\n",
      "Train Epoch: 8 [41600/50000] Loss: 1.032405 Acc: 0.7188\n",
      "Train Epoch: 8 [44800/50000] Loss: 0.716387 Acc: 0.6875\n",
      "Train Epoch: 8 [48000/50000] Loss: 0.795944 Acc: 0.7188\n",
      "Elapsed 90.97s, 10.11 s/epoch, 0.01 s/batch, ets 111.19s\n",
      "\n",
      "Test set: Average loss: 1.0367, Accuracy: 6391/10000 (64%)\n",
      "\n",
      "Train Epoch: 9 [3200/50000] Loss: 0.707498 Acc: 0.8438\n",
      "Train Epoch: 9 [6400/50000] Loss: 0.719724 Acc: 0.7500\n",
      "Train Epoch: 9 [9600/50000] Loss: 0.891925 Acc: 0.7812\n",
      "Train Epoch: 9 [12800/50000] Loss: 0.904519 Acc: 0.7188\n",
      "Train Epoch: 9 [16000/50000] Loss: 1.095214 Acc: 0.5625\n",
      "Train Epoch: 9 [19200/50000] Loss: 1.116062 Acc: 0.5312\n",
      "Train Epoch: 9 [22400/50000] Loss: 1.136099 Acc: 0.5625\n",
      "Train Epoch: 9 [25600/50000] Loss: 0.502007 Acc: 0.8750\n",
      "Train Epoch: 9 [28800/50000] Loss: 1.043661 Acc: 0.7188\n",
      "Train Epoch: 9 [32000/50000] Loss: 0.940671 Acc: 0.6562\n",
      "Train Epoch: 9 [35200/50000] Loss: 0.703226 Acc: 0.7188\n",
      "Train Epoch: 9 [38400/50000] Loss: 1.624460 Acc: 0.3750\n",
      "Train Epoch: 9 [41600/50000] Loss: 1.252234 Acc: 0.6250\n",
      "Train Epoch: 9 [44800/50000] Loss: 1.160028 Acc: 0.6250\n",
      "Train Epoch: 9 [48000/50000] Loss: 1.281830 Acc: 0.5312\n",
      "Elapsed 101.24s, 10.12 s/epoch, 0.01 s/batch, ets 101.24s\n",
      "\n",
      "Test set: Average loss: 1.0061, Accuracy: 6440/10000 (64%)\n",
      "\n",
      "Accuracy improved, saving the model.\n",
      "\n",
      "Train Epoch: 10 [3200/50000] Loss: 0.773105 Acc: 0.7188\n",
      "Train Epoch: 10 [6400/50000] Loss: 0.845287 Acc: 0.7500\n",
      "Train Epoch: 10 [9600/50000] Loss: 0.800122 Acc: 0.8125\n",
      "Train Epoch: 10 [12800/50000] Loss: 1.090527 Acc: 0.5625\n",
      "Train Epoch: 10 [16000/50000] Loss: 0.939132 Acc: 0.6562\n",
      "Train Epoch: 10 [19200/50000] Loss: 0.976471 Acc: 0.6250\n",
      "Train Epoch: 10 [22400/50000] Loss: 0.691131 Acc: 0.7188\n",
      "Train Epoch: 10 [25600/50000] Loss: 1.376905 Acc: 0.5312\n",
      "Train Epoch: 10 [28800/50000] Loss: 0.646459 Acc: 0.7500\n",
      "Train Epoch: 10 [32000/50000] Loss: 1.003560 Acc: 0.6562\n",
      "Train Epoch: 10 [35200/50000] Loss: 0.688052 Acc: 0.7500\n",
      "Train Epoch: 10 [38400/50000] Loss: 1.118998 Acc: 0.5938\n",
      "Train Epoch: 10 [41600/50000] Loss: 0.687935 Acc: 0.7500\n",
      "Train Epoch: 10 [44800/50000] Loss: 0.723646 Acc: 0.7500\n",
      "Train Epoch: 10 [48000/50000] Loss: 0.984738 Acc: 0.6875\n",
      "Elapsed 111.67s, 10.15 s/epoch, 0.01 s/batch, ets 91.37s\n",
      "\n",
      "Test set: Average loss: 1.0128, Accuracy: 6486/10000 (65%)\n",
      "\n",
      "Accuracy improved, saving the model.\n",
      "\n",
      "Train Epoch: 11 [3200/50000] Loss: 0.611209 Acc: 0.7500\n",
      "Train Epoch: 11 [6400/50000] Loss: 0.932630 Acc: 0.6875\n",
      "Train Epoch: 11 [9600/50000] Loss: 0.909005 Acc: 0.6562\n",
      "Train Epoch: 11 [12800/50000] Loss: 0.867815 Acc: 0.5938\n",
      "Train Epoch: 11 [16000/50000] Loss: 1.390716 Acc: 0.5938\n",
      "Train Epoch: 11 [19200/50000] Loss: 0.907916 Acc: 0.7188\n",
      "Train Epoch: 11 [22400/50000] Loss: 0.798056 Acc: 0.7188\n",
      "Train Epoch: 11 [25600/50000] Loss: 0.858809 Acc: 0.6875\n",
      "Train Epoch: 11 [28800/50000] Loss: 1.053457 Acc: 0.7812\n",
      "Train Epoch: 11 [32000/50000] Loss: 0.974695 Acc: 0.6250\n",
      "Train Epoch: 11 [35200/50000] Loss: 0.694940 Acc: 0.8438\n",
      "Train Epoch: 11 [38400/50000] Loss: 1.036011 Acc: 0.7188\n",
      "Train Epoch: 11 [41600/50000] Loss: 1.093477 Acc: 0.6875\n",
      "Train Epoch: 11 [44800/50000] Loss: 0.935807 Acc: 0.6875\n",
      "Train Epoch: 11 [48000/50000] Loss: 0.803819 Acc: 0.6875\n",
      "Elapsed 121.59s, 10.13 s/epoch, 0.01 s/batch, ets 81.06s\n",
      "\n",
      "Test set: Average loss: 0.9520, Accuracy: 6650/10000 (66%)\n",
      "\n",
      "Accuracy improved, saving the model.\n",
      "\n",
      "Train Epoch: 12 [3200/50000] Loss: 1.052976 Acc: 0.7188\n",
      "Train Epoch: 12 [6400/50000] Loss: 0.755108 Acc: 0.7500\n",
      "Train Epoch: 12 [9600/50000] Loss: 0.895215 Acc: 0.7812\n",
      "Train Epoch: 12 [12800/50000] Loss: 0.819219 Acc: 0.8125\n",
      "Train Epoch: 12 [16000/50000] Loss: 0.894443 Acc: 0.6875\n",
      "Train Epoch: 12 [19200/50000] Loss: 0.938126 Acc: 0.6250\n",
      "Train Epoch: 12 [22400/50000] Loss: 1.354773 Acc: 0.5312\n",
      "Train Epoch: 12 [25600/50000] Loss: 0.715244 Acc: 0.7500\n",
      "Train Epoch: 12 [28800/50000] Loss: 0.561334 Acc: 0.8125\n",
      "Train Epoch: 12 [32000/50000] Loss: 0.790130 Acc: 0.7188\n",
      "Train Epoch: 12 [35200/50000] Loss: 0.882917 Acc: 0.7812\n",
      "Train Epoch: 12 [38400/50000] Loss: 0.545717 Acc: 0.8438\n",
      "Train Epoch: 12 [41600/50000] Loss: 0.544399 Acc: 0.7812\n",
      "Train Epoch: 12 [44800/50000] Loss: 1.038369 Acc: 0.6250\n",
      "Train Epoch: 12 [48000/50000] Loss: 0.793462 Acc: 0.7500\n",
      "Elapsed 131.75s, 10.13 s/epoch, 0.01 s/batch, ets 70.94s\n",
      "\n",
      "Test set: Average loss: 0.9657, Accuracy: 6622/10000 (66%)\n",
      "\n",
      "Train Epoch: 13 [3200/50000] Loss: 0.816567 Acc: 0.7500\n",
      "Train Epoch: 13 [6400/50000] Loss: 0.705048 Acc: 0.8125\n",
      "Train Epoch: 13 [9600/50000] Loss: 0.701747 Acc: 0.7188\n",
      "Train Epoch: 13 [12800/50000] Loss: 0.647391 Acc: 0.8750\n",
      "Train Epoch: 13 [16000/50000] Loss: 0.802981 Acc: 0.6562\n",
      "Train Epoch: 13 [19200/50000] Loss: 1.259955 Acc: 0.5938\n",
      "Train Epoch: 13 [22400/50000] Loss: 0.878500 Acc: 0.6250\n",
      "Train Epoch: 13 [25600/50000] Loss: 1.053553 Acc: 0.6250\n",
      "Train Epoch: 13 [28800/50000] Loss: 0.686484 Acc: 0.7812\n",
      "Train Epoch: 13 [32000/50000] Loss: 0.782371 Acc: 0.7188\n",
      "Train Epoch: 13 [35200/50000] Loss: 0.848942 Acc: 0.6875\n",
      "Train Epoch: 13 [38400/50000] Loss: 0.830935 Acc: 0.6562\n",
      "Train Epoch: 13 [41600/50000] Loss: 0.578976 Acc: 0.8125\n",
      "Train Epoch: 13 [44800/50000] Loss: 0.568704 Acc: 0.8125\n",
      "Train Epoch: 13 [48000/50000] Loss: 0.729219 Acc: 0.7500\n",
      "Elapsed 142.22s, 10.16 s/epoch, 0.01 s/batch, ets 60.95s\n",
      "\n",
      "Test set: Average loss: 0.9722, Accuracy: 6685/10000 (67%)\n",
      "\n",
      "Accuracy improved, saving the model.\n",
      "\n",
      "Train Epoch: 14 [3200/50000] Loss: 0.741899 Acc: 0.7188\n",
      "Train Epoch: 14 [6400/50000] Loss: 0.539520 Acc: 0.8750\n",
      "Train Epoch: 14 [9600/50000] Loss: 0.654773 Acc: 0.7500\n",
      "Train Epoch: 14 [12800/50000] Loss: 0.608657 Acc: 0.7812\n",
      "Train Epoch: 14 [16000/50000] Loss: 0.633174 Acc: 0.8125\n",
      "Train Epoch: 14 [19200/50000] Loss: 0.751897 Acc: 0.7188\n",
      "Train Epoch: 14 [22400/50000] Loss: 0.688250 Acc: 0.7500\n",
      "Train Epoch: 14 [25600/50000] Loss: 0.679665 Acc: 0.7500\n",
      "Train Epoch: 14 [28800/50000] Loss: 1.031823 Acc: 0.6562\n",
      "Train Epoch: 14 [32000/50000] Loss: 0.851368 Acc: 0.6562\n",
      "Train Epoch: 14 [35200/50000] Loss: 0.811033 Acc: 0.7812\n",
      "Train Epoch: 14 [38400/50000] Loss: 0.562871 Acc: 0.8438\n",
      "Train Epoch: 14 [41600/50000] Loss: 0.884370 Acc: 0.6562\n",
      "Train Epoch: 14 [44800/50000] Loss: 0.936115 Acc: 0.6875\n",
      "Train Epoch: 14 [48000/50000] Loss: 0.678873 Acc: 0.7500\n",
      "Elapsed 152.27s, 10.15 s/epoch, 0.01 s/batch, ets 50.76s\n",
      "\n",
      "Test set: Average loss: 0.9343, Accuracy: 6777/10000 (68%)\n",
      "\n",
      "Accuracy improved, saving the model.\n",
      "\n",
      "Train Epoch: 15 [3200/50000] Loss: 0.359205 Acc: 0.8438\n",
      "Train Epoch: 15 [6400/50000] Loss: 0.821271 Acc: 0.6875\n",
      "Train Epoch: 15 [9600/50000] Loss: 0.553866 Acc: 0.8125\n",
      "Train Epoch: 15 [12800/50000] Loss: 0.789844 Acc: 0.7500\n",
      "Train Epoch: 15 [16000/50000] Loss: 0.670248 Acc: 0.7500\n",
      "Train Epoch: 15 [19200/50000] Loss: 0.784682 Acc: 0.7500\n",
      "Train Epoch: 15 [22400/50000] Loss: 0.668463 Acc: 0.7188\n",
      "Train Epoch: 15 [25600/50000] Loss: 0.504631 Acc: 0.7500\n",
      "Train Epoch: 15 [28800/50000] Loss: 0.780580 Acc: 0.7500\n",
      "Train Epoch: 15 [32000/50000] Loss: 0.921015 Acc: 0.6562\n",
      "Train Epoch: 15 [35200/50000] Loss: 0.971213 Acc: 0.5625\n",
      "Train Epoch: 15 [38400/50000] Loss: 0.494228 Acc: 0.8750\n",
      "Train Epoch: 15 [41600/50000] Loss: 0.800191 Acc: 0.6875\n",
      "Train Epoch: 15 [44800/50000] Loss: 0.922188 Acc: 0.6562\n",
      "Train Epoch: 15 [48000/50000] Loss: 0.630452 Acc: 0.7500\n",
      "Elapsed 163.17s, 10.20 s/epoch, 0.01 s/batch, ets 40.79s\n",
      "\n",
      "Test set: Average loss: 0.9706, Accuracy: 6746/10000 (67%)\n",
      "\n",
      "Train Epoch: 16 [3200/50000] Loss: 0.595801 Acc: 0.7188\n",
      "Train Epoch: 16 [6400/50000] Loss: 0.456918 Acc: 0.8750\n",
      "Train Epoch: 16 [9600/50000] Loss: 0.391478 Acc: 0.8438\n",
      "Train Epoch: 16 [12800/50000] Loss: 0.629519 Acc: 0.7812\n",
      "Train Epoch: 16 [16000/50000] Loss: 0.718442 Acc: 0.8125\n",
      "Train Epoch: 16 [19200/50000] Loss: 0.455329 Acc: 0.9062\n",
      "Train Epoch: 16 [22400/50000] Loss: 0.430841 Acc: 0.8438\n",
      "Train Epoch: 16 [25600/50000] Loss: 0.649456 Acc: 0.8125\n",
      "Train Epoch: 16 [28800/50000] Loss: 0.557229 Acc: 0.7500\n",
      "Train Epoch: 16 [32000/50000] Loss: 0.849512 Acc: 0.7812\n",
      "Train Epoch: 16 [35200/50000] Loss: 0.506324 Acc: 0.7500\n",
      "Train Epoch: 16 [38400/50000] Loss: 0.821608 Acc: 0.7188\n",
      "Train Epoch: 16 [41600/50000] Loss: 0.444991 Acc: 0.7812\n",
      "Train Epoch: 16 [44800/50000] Loss: 0.637331 Acc: 0.8438\n",
      "Train Epoch: 16 [48000/50000] Loss: 0.756498 Acc: 0.7500\n",
      "Elapsed 173.58s, 10.21 s/epoch, 0.01 s/batch, ets 30.63s\n",
      "\n",
      "Test set: Average loss: 0.9735, Accuracy: 6744/10000 (67%)\n",
      "\n",
      "Train Epoch: 17 [3200/50000] Loss: 0.856597 Acc: 0.7188\n",
      "Train Epoch: 17 [6400/50000] Loss: 0.653709 Acc: 0.8438\n",
      "Train Epoch: 17 [9600/50000] Loss: 0.379715 Acc: 0.9062\n",
      "Train Epoch: 17 [12800/50000] Loss: 0.655529 Acc: 0.7188\n",
      "Train Epoch: 17 [16000/50000] Loss: 0.679880 Acc: 0.7812\n",
      "Train Epoch: 17 [19200/50000] Loss: 1.192972 Acc: 0.6250\n",
      "Train Epoch: 17 [22400/50000] Loss: 0.534645 Acc: 0.8125\n",
      "Train Epoch: 17 [25600/50000] Loss: 1.061027 Acc: 0.6875\n",
      "Train Epoch: 17 [28800/50000] Loss: 0.766500 Acc: 0.7812\n",
      "Train Epoch: 17 [32000/50000] Loss: 1.121363 Acc: 0.7188\n",
      "Train Epoch: 17 [35200/50000] Loss: 0.957564 Acc: 0.7188\n",
      "Train Epoch: 17 [38400/50000] Loss: 0.484174 Acc: 0.8125\n",
      "Train Epoch: 17 [41600/50000] Loss: 0.713609 Acc: 0.7188\n",
      "Train Epoch: 17 [44800/50000] Loss: 0.665314 Acc: 0.7812\n",
      "Train Epoch: 17 [48000/50000] Loss: 0.641824 Acc: 0.7500\n",
      "Elapsed 183.88s, 10.22 s/epoch, 0.01 s/batch, ets 20.43s\n",
      "\n",
      "Test set: Average loss: 0.9676, Accuracy: 6717/10000 (67%)\n",
      "\n",
      "Train Epoch: 18 [3200/50000] Loss: 0.714980 Acc: 0.6562\n",
      "Train Epoch: 18 [6400/50000] Loss: 1.066254 Acc: 0.6250\n",
      "Train Epoch: 18 [9600/50000] Loss: 0.756953 Acc: 0.7812\n",
      "Train Epoch: 18 [12800/50000] Loss: 0.649266 Acc: 0.7812\n",
      "Train Epoch: 18 [16000/50000] Loss: 0.554445 Acc: 0.6875\n",
      "Train Epoch: 18 [19200/50000] Loss: 0.662390 Acc: 0.7812\n",
      "Train Epoch: 18 [22400/50000] Loss: 0.722678 Acc: 0.7500\n",
      "Train Epoch: 18 [25600/50000] Loss: 1.092150 Acc: 0.6250\n",
      "Train Epoch: 18 [28800/50000] Loss: 0.284638 Acc: 0.9375\n",
      "Train Epoch: 18 [32000/50000] Loss: 0.425882 Acc: 0.8438\n",
      "Train Epoch: 18 [35200/50000] Loss: 0.474389 Acc: 0.8438\n",
      "Train Epoch: 18 [38400/50000] Loss: 0.497961 Acc: 0.8750\n",
      "Train Epoch: 18 [41600/50000] Loss: 0.427687 Acc: 0.8125\n",
      "Train Epoch: 18 [44800/50000] Loss: 0.478585 Acc: 0.8750\n",
      "Train Epoch: 18 [48000/50000] Loss: 0.648737 Acc: 0.7500\n",
      "Elapsed 193.84s, 10.20 s/epoch, 0.01 s/batch, ets 10.20s\n",
      "\n",
      "Test set: Average loss: 1.0312, Accuracy: 6725/10000 (67%)\n",
      "\n",
      "Train Epoch: 19 [3200/50000] Loss: 0.390330 Acc: 0.8438\n",
      "Train Epoch: 19 [6400/50000] Loss: 0.956017 Acc: 0.5625\n",
      "Train Epoch: 19 [9600/50000] Loss: 0.771978 Acc: 0.6875\n",
      "Train Epoch: 19 [12800/50000] Loss: 0.470167 Acc: 0.8750\n",
      "Train Epoch: 19 [16000/50000] Loss: 0.968313 Acc: 0.5938\n",
      "Train Epoch: 19 [19200/50000] Loss: 0.608156 Acc: 0.8125\n",
      "Train Epoch: 19 [22400/50000] Loss: 0.574368 Acc: 0.7500\n",
      "Train Epoch: 19 [25600/50000] Loss: 0.507265 Acc: 0.8125\n",
      "Train Epoch: 19 [28800/50000] Loss: 0.800647 Acc: 0.7812\n",
      "Train Epoch: 19 [32000/50000] Loss: 0.378029 Acc: 0.8438\n",
      "Train Epoch: 19 [35200/50000] Loss: 0.970916 Acc: 0.6875\n",
      "Train Epoch: 19 [38400/50000] Loss: 0.866286 Acc: 0.8125\n",
      "Train Epoch: 19 [41600/50000] Loss: 0.643017 Acc: 0.8125\n",
      "Train Epoch: 19 [44800/50000] Loss: 0.866011 Acc: 0.6562\n",
      "Train Epoch: 19 [48000/50000] Loss: 0.593283 Acc: 0.7188\n",
      "Elapsed 204.53s, 10.23 s/epoch, 0.01 s/batch, ets 0.00s\n",
      "\n",
      "Test set: Average loss: 1.0121, Accuracy: 6721/10000 (67%)\n",
      "\n",
      "Total time: 205.98, Best Loss: 0.934, Best Accuracy: 0.678\n"
     ]
    }
   ],
   "source": [
    "if required_training:\n",
    "    model, epoch_train_loss, epoch_train_acc, epoch_test_loss, epoch_test_acc = main()"
   ]
  },
  {
   "cell_type": "markdown",
   "metadata": {
    "deletable": false,
    "editable": false,
    "nbgrader": {
     "grade": false,
     "locked": true,
     "solution": false
    }
   },
   "source": [
    "# <font style=\"color:blue\">12. Plot Loss</font>"
   ]
  },
  {
   "cell_type": "code",
   "execution_count": 26,
   "metadata": {
    "deletable": false,
    "editable": false,
    "lines_to_next_cell": 2,
    "nbgrader": {
     "grade": false,
     "locked": true,
     "solution": false
    }
   },
   "outputs": [
    {
     "data": {
      "image/png": "[encoded data removed]",
      "text/plain": [
       "<Figure size 1000x600 with 1 Axes>"
      ]
     },
     "metadata": {},
     "output_type": "display_data"
    }
   ],
   "source": [
    "# Plot loss\n",
    "plt.rcParams[\"figure.figsize\"] = (10, 6)\n",
    "x = range(len(epoch_train_loss))\n",
    "\n",
    "\n",
    "plt.figure\n",
    "plt.plot(x, epoch_train_loss, color='r', label=\"train loss\")\n",
    "plt.plot(x, epoch_test_loss, color='b', label=\"validation loss\")\n",
    "plt.xlabel('epoch no.')\n",
    "plt.ylabel('loss')\n",
    "plt.legend(loc='upper right')\n",
    "plt.title('Training and Validation Loss')\n",
    "plt.show()"
   ]
  },
  {
   "cell_type": "markdown",
   "metadata": {
    "deletable": false,
    "editable": false,
    "nbgrader": {
     "grade": false,
     "locked": true,
     "solution": false
    }
   },
   "source": [
    "# <font style=\"color:blue\">13. Plot Accuracy</font>"
   ]
  },
  {
   "cell_type": "code",
   "execution_count": 27,
   "metadata": {
    "deletable": false,
    "editable": false,
    "nbgrader": {
     "grade": false,
     "locked": true,
     "solution": false
    }
   },
   "outputs": [
    {
     "data": {
      "image/png": "[encoded data removed]",
      "text/plain": [
       "<Figure size 1000x600 with 1 Axes>"
      ]
     },
     "metadata": {},
     "output_type": "display_data"
    }
   ],
   "source": [
    "# Plot loss\n",
    "plt.rcParams[\"figure.figsize\"] = (10, 6)\n",
    "x = range(len(epoch_train_loss))\n",
    "\n",
    "\n",
    "plt.figure\n",
    "plt.plot(x, epoch_train_acc, color='r', label=\"train accuracy\")\n",
    "plt.plot(x, epoch_test_acc, color='b', label=\"validation accuracy\")\n",
    "plt.xlabel('epoch no.')\n",
    "plt.ylabel('accuracy')\n",
    "plt.legend(loc='center right')\n",
    "plt.title('Training and Validation Accuracy')\n",
    "plt.show()"
   ]
  },
  {
   "cell_type": "markdown",
   "metadata": {
    "deletable": false,
    "editable": false,
    "nbgrader": {
     "grade": false,
     "locked": true,
     "solution": false
    }
   },
   "source": [
    "# <font style=\"color:blue\">14. Loading the Model </font>\n"
   ]
  },
  {
   "cell_type": "code",
   "execution_count": 28,
   "metadata": {
    "deletable": false,
    "editable": false,
    "nbgrader": {
     "grade": false,
     "locked": true,
     "solution": false
    }
   },
   "outputs": [
    {
     "name": "stderr",
     "output_type": "stream",
     "text": [
      "/tmp/ipykernel_634745/2594329744.py:11: FutureWarning: You are using `torch.load` with `weights_only=False` (the current default value), which uses the default pickle module implicitly. It is possible to construct malicious pickle data which will execute arbitrary code during unpickling (See https://github.com/pytorch/pytorch/blob/main/SECURITY.md#untrusted-models for more details). In a future release, the default value for `weights_only` will be flipped to `True`. This limits the functions that could be executed during unpickling. Arbitrary objects will no longer be allowed to be loaded via this mode unless they are explicitly allowlisted by the user via `torch.serialization.add_safe_globals`. We recommend you start setting `weights_only=True` for any use case where you don't have full control of the loaded file. Please open an issue on GitHub for any issues related to this experimental feature.\n",
      "  cnn_model.load_state_dict(torch.load(model_path))\n"
     ]
    },
    {
     "data": {
      "text/plain": [
       "<All keys matched successfully>"
      ]
     },
     "execution_count": 28,
     "metadata": {},
     "output_type": "execute_result"
    }
   ],
   "source": [
    "# initialize the model\n",
    "cnn_model = MyModel()\n",
    "\n",
    "models = 'models'\n",
    "\n",
    "model_file_name = 'cifar10_cnn_model.pt'\n",
    "\n",
    "model_path = os.path.join(models, model_file_name)\n",
    "\n",
    "# loading the model and getting model parameters by using load_state_dict\n",
    "cnn_model.load_state_dict(torch.load(model_path))"
   ]
  },
  {
   "cell_type": "markdown",
   "metadata": {
    "deletable": false,
    "editable": false,
    "nbgrader": {
     "grade": false,
     "locked": true,
     "solution": false
    }
   },
   "source": [
    "# <font style=\"color:blue\">15. Model Prediction</font>\n"
   ]
  },
  {
   "cell_type": "code",
   "execution_count": 27,
   "metadata": {
    "deletable": false,
    "editable": false,
    "nbgrader": {
     "grade": false,
     "locked": true,
     "solution": false
    }
   },
   "outputs": [],
   "source": [
    "def prediction(model, train_config, batch_input):\n",
    "    \n",
    "    # send model to cpu/cuda according to your system configuration\n",
    "    model.to(train_config.device)\n",
    "    \n",
    "    # it is important to do model.eval() before prediction\n",
    "    model.eval()\n",
    "\n",
    "    data = batch_input.to(train_config.device)\n",
    "\n",
    "    output = model(data)\n",
    "\n",
    "    # Score to probability using softmax\n",
    "    prob = F.softmax(output, dim=1)\n",
    "\n",
    "    # get the max probability\n",
    "    pred_prob = prob.data.max(dim=1)[0]\n",
    "    \n",
    "    # get the index of the max probability\n",
    "    pred_index = prob.data.max(dim=1)[1]\n",
    "    \n",
    "    return pred_index.cpu().numpy(), pred_prob.cpu().numpy()"
   ]
  },
  {
   "cell_type": "markdown",
   "metadata": {
    "deletable": false,
    "editable": false,
    "nbgrader": {
     "grade": false,
     "locked": true,
     "solution": false
    }
   },
   "source": [
    "# <font style=\"color:blue\">16. Perform Inference on sample images </font>\n",
    "\n",
    "For prediction, we need to transform the data in the same way as we have done during training. "
   ]
  },
  {
   "cell_type": "code",
   "execution_count": 28,
   "metadata": {
    "deletable": false,
    "editable": false,
    "lines_to_next_cell": 2,
    "nbgrader": {
     "grade": false,
     "locked": true,
     "solution": false
    }
   },
   "outputs": [
    {
     "data": {
      "image/png": "[encoded data removed]",
      "text/plain": [
       "<Figure size 300x300 with 1 Axes>"
      ]
     },
     "metadata": {},
     "output_type": "display_data"
    },
    {
     "data": {
      "image/png": "[encoded data removed]",
      "text/plain": [
       "<Figure size 300x300 with 1 Axes>"
      ]
     },
     "metadata": {},
     "output_type": "display_data"
    },
    {
     "data": {
      "image/png": "[encoded data removed]",
      "text/plain": [
       "<Figure size 300x300 with 1 Axes>"
      ]
     },
     "metadata": {},
     "output_type": "display_data"
    },
    {
     "data": {
      "image/png": "[encoded data removed]",
      "text/plain": [
       "<Figure size 300x300 with 1 Axes>"
      ]
     },
     "metadata": {},
     "output_type": "display_data"
    },
    {
     "data": {
      "image/png": "[encoded data removed]",
      "text/plain": [
       "<Figure size 300x300 with 1 Axes>"
      ]
     },
     "metadata": {},
     "output_type": "display_data"
    }
   ],
   "source": [
    "classes = ('plane', 'car', 'bird', 'cat', 'deer', 'dog', 'frog', 'horse', 'ship', 'truck')\n",
    "\n",
    "batch_size = 5\n",
    "train_config = TrainingConfiguration()\n",
    "\n",
    "if torch.cuda.is_available():\n",
    "    train_config.device = \"cuda\"\n",
    "else:\n",
    "    train_config.device = \"cpu\"\n",
    "    \n",
    "    \n",
    "\n",
    "# load test data without image transformation\n",
    "test = torch.utils.data.DataLoader(\n",
    "    datasets.CIFAR10(root=train_config.data_root, train=False, download=False, \n",
    "                   transform=transforms.functional.to_tensor),\n",
    "    batch_size=batch_size,\n",
    "    shuffle=False,\n",
    "    num_workers=1\n",
    "    )\n",
    "\n",
    "try:\n",
    "    mean, std = get_mean_std_train_data(data_root)\n",
    "    assert len(mean) == len(std) == 3\n",
    "except:\n",
    "    mean = (0.5, 0.5, 0.5)\n",
    "    std = (0.5, 0.5, 0.5)\n",
    "\n",
    "# load testdata with image transformation\n",
    "image_transforms = transforms.Compose([\n",
    "    transforms.ToTensor(),\n",
    "    transforms.Normalize(mean, std)\n",
    "    ])\n",
    "\n",
    "test_trans = torch.utils.data.DataLoader(\n",
    "    datasets.CIFAR10(root=train_config.data_root, train=False, download=False, transform=image_transforms),\n",
    "    batch_size=batch_size,\n",
    "    shuffle=False,\n",
    "    num_workers=1\n",
    "    )\n",
    "\n",
    "for data, _ in test_trans:\n",
    "    # pass the loaded model\n",
    "    pred, prob = prediction(cnn_model, train_config, data)\n",
    "    break\n",
    "    \n",
    "\n",
    "plt.rcParams[\"figure.figsize\"] = (3, 3)\n",
    "for images, label in test:\n",
    "    for i, img in enumerate(images):\n",
    "        img = transforms.functional.to_pil_image(img)\n",
    "        plt.imshow(img)\n",
    "        plt.gca().set_title('Pred: {0}({1:0.2}), Label: {2}'.format(classes[pred[i]], prob[i], classes[label[i]]))\n",
    "        plt.show()\n",
    "    break"
   ]
  },
  {
   "cell_type": "markdown",
   "metadata": {},
   "source": [
    "# <font style=\"color:blue\">17. Report your findings</font>\n",
    "- \n",
    "- "
   ]
  },
  {
   "cell_type": "markdown",
   "metadata": {
    "deletable": false,
    "editable": false,
    "nbgrader": {
     "grade": false,
     "locked": true,
     "solution": false
    }
   },
   "source": [
    "# <font style=\"color:blue\">References</font>\n",
    "\n",
    "1. https://pytorch.org/tutorials/beginner/data_loading_tutorial.html\n",
    "1. https://pytorch.org/tutorials/beginner/saving_loading_models.html"
   ]
  }
 ],
 "metadata": {
  "kernelspec": {
   "display_name": "Python 3 (ipykernel)",
   "language": "python",
   "name": "python3"
  },
  "language_info": {
   "codemirror_mode": {
    "name": "ipython",
    "version": 3
   },
   "file_extension": ".py",
   "mimetype": "text/x-python",
   "name": "python",
   "nbconvert_exporter": "python",
   "pygments_lexer": "ipython3",
   "version": "3.10.12"
  }
 },
 "nbformat": 4,
 "nbformat_minor": 4
}
